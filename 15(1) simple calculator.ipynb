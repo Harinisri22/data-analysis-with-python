{
 "cells": [
  {
   "cell_type": "markdown",
   "id": "db02a8bb-b0d7-46d6-a2a3-f2da7a46a7c7",
   "metadata": {},
   "source": [
    "# simple calculator"
   ]
  },
  {
   "cell_type": "code",
   "execution_count": 2,
   "id": "e4abb0d1-a6da-4904-a219-17b52e7e3d6a",
   "metadata": {},
   "outputs": [
    {
     "name": "stdout",
     "output_type": "stream",
     "text": [
      "Select an operation to perform: \n",
      "1. ADD\n",
      "2. SUBTRACT\n",
      "3. MULTIPLY\n",
      "4. DIVIDE\n"
     ]
    },
    {
     "name": "stdin",
     "output_type": "stream",
     "text": [
      " 4\n",
      "Enter first number:  5\n",
      "Enter second number:  4\n"
     ]
    },
    {
     "name": "stdout",
     "output_type": "stream",
     "text": [
      "The result is1.25\n"
     ]
    }
   ],
   "source": [
    "print(\"Select an operation to perform: \")\n",
    "print(\"1. ADD\")\n",
    "print(\"2. SUBTRACT\")\n",
    "print(\"3. MULTIPLY\")\n",
    "print(\"4. DIVIDE\")\n",
    "operation = input()\n",
    "if operation == \"1\":\n",
    "    num1 = input(\"Enter first number: \")\n",
    "    num2 = input(\"Enter second number: \")\n",
    "    print(\"The sum is \" + str(int(num1) + int(num2)))\n",
    "elif operation == \"2\":\n",
    "    num1 = input(\"Enter first number: \")\n",
    "    num2 = input(\"Enter second number: \")\n",
    "    print(\"The difference is \" + str(int(num1) - int(num2)))\n",
    "elif operation == \"3\":\n",
    "    num1 = input(\"Enter first number: \")\n",
    "    num2 = input(\"Enter second number: \")\n",
    "    print(\"The product is \" + str(int(num1) * int(num2)))\n",
    "elif operation == \"4\":\n",
    "    num1 = input(\"Enter first number: \")\n",
    "    num2 = input(\"Enter second number: \")\n",
    "    print(\"The result is\" + str(int(num1) / int(num2)))\n",
    "\n",
    "else:\n",
    "    print(\"Invalid Entry\")"
   ]
  },
  {
   "cell_type": "markdown",
   "id": "b59882ab-a843-4d7e-b2ab-7d4b53692024",
   "metadata": {},
   "source": [
    "# simple calculator using def"
   ]
  },
  {
   "cell_type": "code",
   "execution_count": 3,
   "id": "70fd9d09-73cd-4b6c-9ce4-11676904477e",
   "metadata": {},
   "outputs": [
    {
     "name": "stdout",
     "output_type": "stream",
     "text": [
      "Select operation:\n",
      "1. Add\n",
      "2. Subtract\n",
      "3. Mul\n",
      "4. Divide\n"
     ]
    },
    {
     "name": "stdin",
     "output_type": "stream",
     "text": [
      "Enter choice (1/2/3/4):  2\n",
      "Enter first number:  2\n",
      "Enter second number:  5\n"
     ]
    },
    {
     "name": "stdout",
     "output_type": "stream",
     "text": [
      "Result: -3\n"
     ]
    }
   ],
   "source": [
    "def add(x, y):\n",
    "    return x + y\n",
    "\n",
    "def subtract(x, y):\n",
    "    return x - y\n",
    "\n",
    "def mul(x, y):\n",
    "    return x * y\n",
    "\n",
    "def divide(x, y):\n",
    "    if y == 0:\n",
    "        return \"Error! Division by zero.\"\n",
    "    return x // y\n",
    "\n",
    "print(\"Select operation:\")\n",
    "print(\"1. Add\")\n",
    "print(\"2. Subtract\")\n",
    "print(\"3. Mul\")\n",
    "print(\"4. Divide\")\n",
    "\n",
    "choice = input(\"Enter choice (1/2/3/4): \")\n",
    "\n",
    "num1 = int(input(\"Enter first number: \"))\n",
    "num2 = int(input(\"Enter second number: \"))\n",
    "\n",
    "if choice == '1':\n",
    "    print(\"Result:\", add(num1, num2))\n",
    "elif choice == '2':\n",
    "    print(\"Result:\", subtract(num1, num2))\n",
    "elif choice == '3':\n",
    "    print(\"Result:\", multiply(num1, num2))\n",
    "elif choice == '4':\n",
    "    print(\"Result:\", divide(num1, num2))\n",
    "else:\n",
    "    print(\"Invalid input\")"
   ]
  },
  {
   "cell_type": "code",
   "execution_count": null,
   "id": "6cca9604-da93-4e1a-a041-6a82efaadfd9",
   "metadata": {},
   "outputs": [],
   "source": []
  }
 ],
 "metadata": {
  "kernelspec": {
   "display_name": "Python 3 (ipykernel)",
   "language": "python",
   "name": "python3"
  },
  "language_info": {
   "codemirror_mode": {
    "name": "ipython",
    "version": 3
   },
   "file_extension": ".py",
   "mimetype": "text/x-python",
   "name": "python",
   "nbconvert_exporter": "python",
   "pygments_lexer": "ipython3",
   "version": "3.12.7"
  }
 },
 "nbformat": 4,
 "nbformat_minor": 5
}
