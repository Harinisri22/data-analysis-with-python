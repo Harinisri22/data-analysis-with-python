{
 "cells": [
  {
   "cell_type": "markdown",
   "id": "cca5c5ec",
   "metadata": {},
   "source": [
    "# 1.Check for Anagram"
   ]
  },
  {
   "cell_type": "markdown",
   "id": "f321288b-9fee-4d0d-83f0-c045ac285069",
   "metadata": {},
   "source": [
    "#### Loop method"
   ]
  },
  {
   "cell_type": "code",
   "execution_count": 3,
   "id": "cd7a8e1e-ef18-43e5-af93-a58d12aada10",
   "metadata": {},
   "outputs": [
    {
     "name": "stdout",
     "output_type": "stream",
     "text": [
      "Anagram: True\n"
     ]
    }
   ],
   "source": [
    "str1 = \"listen\"\n",
    "str2 = \"silent\"\n",
    "is_anagram = True\n",
    "\n",
    "for char in str1:\n",
    "    if char not in str2:\n",
    "        is_anagram = False\n",
    "        break\n",
    "for char in str2:\n",
    "    if char not in str1:\n",
    "        is_anagram = False\n",
    "        break\n",
    "\n",
    "print(\"Anagram:\", is_anagram)\n"
   ]
  },
  {
   "cell_type": "markdown",
   "id": "d38984f4-47c9-4816-8427-f582455003c5",
   "metadata": {},
   "source": [
    "#### Function without keyword:"
   ]
  },
  {
   "cell_type": "code",
   "execution_count": 4,
   "id": "fe0a353e-ee78-4f78-8e6f-5eb9cc0acde2",
   "metadata": {},
   "outputs": [
    {
     "name": "stdout",
     "output_type": "stream",
     "text": [
      "Anagram: True\n"
     ]
    }
   ],
   "source": [
    "def is_anagram_loop(s1, s2):\n",
    "    if len(s1) != len(s2):\n",
    "        return False\n",
    "    for char in s1:\n",
    "        if char not in s2:\n",
    "            return False\n",
    "    for char in s2:\n",
    "        if char not in s1:\n",
    "            return False\n",
    "    return True\n",
    "\n",
    "print(\"Anagram:\", is_anagram_loop(\"listen\", \"silent\"))\n"
   ]
  },
  {
   "cell_type": "markdown",
   "id": "5ae538ee-b0fc-4494-b8cc-700107c0940f",
   "metadata": {},
   "source": [
    "#### Using keyword (sorted):"
   ]
  },
  {
   "cell_type": "code",
   "execution_count": null,
   "id": "fd81b719-4632-4700-9f1e-e49eae2521fe",
   "metadata": {},
   "outputs": [],
   "source": [
    "str1 = \"listen\"\n",
    "str2 = \"silent\"\n",
    "\n",
    "if sorted(str1) == sorted(str2):\n",
    "    print(\"Anagram: True\")\n",
    "else:\n",
    "    print(\"Anagram: False\")\n"
   ]
  },
  {
   "cell_type": "markdown",
   "id": "72bd594f-c9a0-4ea2-aba5-fbce61d8e223",
   "metadata": {},
   "source": [
    "# 2. Check for Palindrome"
   ]
  },
  {
   "cell_type": "markdown",
   "id": "3907075b-119d-4261-9e47-ebd034f7c0eb",
   "metadata": {},
   "source": [
    "#### Loop only:"
   ]
  },
  {
   "cell_type": "code",
   "execution_count": 5,
   "id": "81d1fb77-f202-4d6e-bd26-77452c54dbb6",
   "metadata": {},
   "outputs": [
    {
     "name": "stdout",
     "output_type": "stream",
     "text": [
      "Palindrome: True\n"
     ]
    }
   ],
   "source": [
    "word = \"level\"\n",
    "is_palindrome = True\n",
    "for i in range(len(word)//2):\n",
    "    if word[i] != word[-i-1]:\n",
    "        is_palindrome = False\n",
    "        break\n",
    "print(\"Palindrome:\", is_palindrome)\n"
   ]
  },
  {
   "cell_type": "markdown",
   "id": "ac57e0b9-45dc-4b8a-87b3-a7a1dd903a6e",
   "metadata": {},
   "source": [
    "#### Function without keyword:\n"
   ]
  },
  {
   "cell_type": "code",
   "execution_count": 7,
   "id": "be1b50da-535a-4bdc-8c6e-96e8c1de2645",
   "metadata": {},
   "outputs": [
    {
     "name": "stdout",
     "output_type": "stream",
     "text": [
      "Palindrome: True\n"
     ]
    }
   ],
   "source": [
    "def is_palindrome_loop(word):\n",
    "    for i in range(len(word)//2):\n",
    "        if word[i] != word[-i-1]:\n",
    "            return False\n",
    "    return True\n",
    "\n",
    "print(\"Palindrome:\", is_palindrome_loop(\"level\"))\n"
   ]
  },
  {
   "cell_type": "markdown",
   "id": "891c77b7-2d27-4987-890f-99de14f6753e",
   "metadata": {},
   "source": [
    "#### Using keyword ([::-1]):"
   ]
  },
  {
   "cell_type": "code",
   "execution_count": 8,
   "id": "e32d0e50-27a4-4bf7-96fa-aef7153e3f59",
   "metadata": {},
   "outputs": [
    {
     "name": "stdout",
     "output_type": "stream",
     "text": [
      "Palindrome: True\n"
     ]
    }
   ],
   "source": [
    "word = \"level\"\n",
    "print(\"Palindrome:\", word == word[::-1])\n"
   ]
  },
  {
   "cell_type": "markdown",
   "id": "e026b8ee-615c-4180-93a9-93f6222d2ab9",
   "metadata": {},
   "source": [
    "# 3. Prime or Not : "
   ]
  },
  {
   "cell_type": "markdown",
   "id": "ce325753-9e28-4ab0-b97e-d69cfc9a4eaa",
   "metadata": {},
   "source": [
    "#### Loop only:"
   ]
  },
  {
   "cell_type": "code",
   "execution_count": 10,
   "id": "c680c89b-641d-4a01-bcaf-f3b2125b3e84",
   "metadata": {},
   "outputs": [
    {
     "name": "stdout",
     "output_type": "stream",
     "text": [
      "Prime: True\n"
     ]
    }
   ],
   "source": [
    "num = 7\n",
    "is_prime = True\n",
    "if num <= 1:\n",
    "    is_prime = False\n",
    "else:\n",
    "    for i in range(2, num):\n",
    "        if num % i == 0:\n",
    "            is_prime = False\n",
    "            break\n",
    "print(\"Prime:\", is_prime)\n"
   ]
  },
  {
   "cell_type": "markdown",
   "id": "e773baf2-075d-4f5a-b20f-3c1d5845078a",
   "metadata": {},
   "source": [
    "#### Function without keyword:"
   ]
  },
  {
   "cell_type": "code",
   "execution_count": 9,
   "id": "ffe92b6f-3d18-4281-a9ae-32f146613af7",
   "metadata": {},
   "outputs": [
    {
     "name": "stdout",
     "output_type": "stream",
     "text": [
      "Prime: True\n"
     ]
    }
   ],
   "source": [
    "def is_prime_loop(n):\n",
    "    if n <= 1:\n",
    "        return False\n",
    "    for i in range(2, n):\n",
    "        if n % i == 0:\n",
    "            return False\n",
    "    return True\n",
    "\n",
    "print(\"Prime:\", is_prime_loop(7))\n"
   ]
  },
  {
   "cell_type": "markdown",
   "id": "58f00551-3022-4383-9cf2-52edeff05a4d",
   "metadata": {},
   "source": [
    "#### Using keyword (any):"
   ]
  },
  {
   "cell_type": "code",
   "execution_count": 11,
   "id": "00a03e01-cfc4-4571-9f85-7ce3ee7ce218",
   "metadata": {},
   "outputs": [
    {
     "name": "stdout",
     "output_type": "stream",
     "text": [
      "Prime: True\n"
     ]
    }
   ],
   "source": [
    "num = 7\n",
    "print(\"Prime:\", num > 1 and not any(num % i == 0 for i in range(2, num)))\n"
   ]
  },
  {
   "cell_type": "markdown",
   "id": "0d5ce5bf-2d06-40fb-afdd-bd8ccb672ed0",
   "metadata": {},
   "source": [
    "# 4.Fibonacci Series"
   ]
  },
  {
   "cell_type": "markdown",
   "id": "905cc86b-fc70-437d-8b11-d98950149726",
   "metadata": {},
   "source": [
    "#### Loop only:"
   ]
  },
  {
   "cell_type": "code",
   "execution_count": 12,
   "id": "d333b653-f2db-4b84-ad32-37518ddc2903",
   "metadata": {},
   "outputs": [
    {
     "name": "stdout",
     "output_type": "stream",
     "text": [
      "Fibonacci: 0 1 1 2 3 "
     ]
    }
   ],
   "source": [
    "n = 5\n",
    "a, b = 0, 1\n",
    "print(\"Fibonacci:\", end=\" \")\n",
    "for i in range(n):\n",
    "    print(a, end=\" \")\n",
    "    c = a + b\n",
    "    a = b\n",
    "    b = c\n"
   ]
  },
  {
   "cell_type": "markdown",
   "id": "d086408c-aaf7-4b3b-9181-adcae1c3d2d1",
   "metadata": {},
   "source": [
    "#### Function without keyword:"
   ]
  },
  {
   "cell_type": "code",
   "execution_count": 13,
   "id": "9858f27e-8b63-486c-812b-2b5c70ddf9bc",
   "metadata": {},
   "outputs": [
    {
     "name": "stdout",
     "output_type": "stream",
     "text": [
      "0 1 1 2 3 "
     ]
    }
   ],
   "source": [
    "def fibonacci_loop(n):\n",
    "    a, b = 0, 1\n",
    "    for i in range(n):\n",
    "        print(a, end=\" \")\n",
    "        a, b = b, a + b\n",
    "\n",
    "fibonacci_loop(5)\n"
   ]
  },
  {
   "cell_type": "markdown",
   "id": "c4c4109a-c545-44f3-b569-078776f33ffb",
   "metadata": {},
   "source": [
    "#### Using keyword (yield generator):"
   ]
  },
  {
   "cell_type": "code",
   "execution_count": 14,
   "id": "b8e3f8a4-d1b4-4e1a-ae7e-49e8204a9adc",
   "metadata": {},
   "outputs": [
    {
     "name": "stdout",
     "output_type": "stream",
     "text": [
      "Fibonacci: [0, 1, 1, 2, 3]\n"
     ]
    }
   ],
   "source": [
    "def fibonacci_gen(n):\n",
    "    a, b = 0, 1\n",
    "    for _ in range(n):\n",
    "        yield a\n",
    "        a, b = b, a + b\n",
    "\n",
    "print(\"Fibonacci:\", list(fibonacci_gen(5)))\n"
   ]
  },
  {
   "cell_type": "markdown",
   "id": "c509228b-e7ae-45a7-9f61-4fda7a42f3bb",
   "metadata": {},
   "source": [
    "# 5. Find Max and Min:"
   ]
  },
  {
   "cell_type": "markdown",
   "id": "1e689c23-9e0b-4d1c-a47a-704d8fc513fe",
   "metadata": {},
   "source": [
    "#### Loop only:"
   ]
  },
  {
   "cell_type": "code",
   "execution_count": 15,
   "id": "1162ebf8-3ff0-4a27-a711-c4369ffb37bd",
   "metadata": {},
   "outputs": [
    {
     "name": "stdout",
     "output_type": "stream",
     "text": [
      "Max: 8\n",
      "Min: 1\n"
     ]
    }
   ],
   "source": [
    "nums = [4, 2, 8, 1, 6]\n",
    "max_num = nums[0]\n",
    "min_num = nums[0]\n",
    "\n",
    "for num in nums:\n",
    "    if num > max_num:\n",
    "        max_num = num\n",
    "    if num < min_num:\n",
    "        min_num = num\n",
    "\n",
    "print(\"Max:\", max_num)\n",
    "print(\"Min:\", min_num)\n"
   ]
  },
  {
   "cell_type": "markdown",
   "id": "da372cf6-0c98-4227-b808-1dab563a7df0",
   "metadata": {},
   "source": [
    "#### Function without keyword:"
   ]
  },
  {
   "cell_type": "code",
   "execution_count": 16,
   "id": "5cd29eff-c9cd-498c-949a-49909bc11c39",
   "metadata": {},
   "outputs": [
    {
     "name": "stdout",
     "output_type": "stream",
     "text": [
      "Max, Min: (8, 1)\n"
     ]
    }
   ],
   "source": [
    "def find_max_min(nums):\n",
    "    max_num = nums[0]\n",
    "    min_num = nums[0]\n",
    "    for num in nums:\n",
    "        if num > max_num:\n",
    "            max_num = num\n",
    "        if num < min_num:\n",
    "            min_num = num\n",
    "    return max_num, min_num\n",
    "\n",
    "print(\"Max, Min:\", find_max_min([4, 2, 8, 1, 6]))\n"
   ]
  },
  {
   "cell_type": "markdown",
   "id": "3522ba1d-b5cb-4ec0-bc97-496d64c47a9b",
   "metadata": {},
   "source": [
    "#### Using keyword (max, min):"
   ]
  },
  {
   "cell_type": "code",
   "execution_count": 17,
   "id": "3b883709-d23a-42ff-8e90-e5010e39666b",
   "metadata": {},
   "outputs": [
    {
     "name": "stdout",
     "output_type": "stream",
     "text": [
      "Max: 8\n",
      "Min: 1\n"
     ]
    }
   ],
   "source": [
    "nums = [4, 2, 8, 1, 6]\n",
    "print(\"Max:\", max(nums))\n",
    "print(\"Min:\", min(nums))\n"
   ]
  },
  {
   "cell_type": "markdown",
   "id": "902861fa-d937-4033-aa69-ce72e54bd873",
   "metadata": {},
   "source": [
    "# 6. Find 2nd Largest and 2nd Smallest:"
   ]
  },
  {
   "cell_type": "markdown",
   "id": "8d6cbbba-fdcb-4e8b-bd0c-3f12174ce5e9",
   "metadata": {},
   "source": [
    "#### Loop only:"
   ]
  },
  {
   "cell_type": "code",
   "execution_count": 18,
   "id": "4abd4009-9d8b-4b35-8eec-ec6d886ba2fe",
   "metadata": {},
   "outputs": [
    {
     "name": "stdout",
     "output_type": "stream",
     "text": [
      "Second Largest: 6\n",
      "Second Smallest: 2\n"
     ]
    }
   ],
   "source": [
    "nums = [4, 2, 8, 1, 6]\n",
    "\n",
    "# Find largest and smallest first\n",
    "largest = smallest = nums[0]\n",
    "for num in nums:\n",
    "    if num > largest:\n",
    "        largest = num\n",
    "    if num < smallest:\n",
    "        smallest = num\n",
    "\n",
    "# Initialize second largest and smallest\n",
    "second_largest = second_smallest = None\n",
    "\n",
    "for num in nums:\n",
    "    if num != largest:\n",
    "        if second_largest is None or num > second_largest:\n",
    "            second_largest = num\n",
    "    if num != smallest:\n",
    "        if second_smallest is None or num < second_smallest:\n",
    "            second_smallest = num\n",
    "\n",
    "print(\"Second Largest:\", second_largest)\n",
    "print(\"Second Smallest:\", second_smallest)\n"
   ]
  },
  {
   "cell_type": "markdown",
   "id": "0df5ce2b-a589-4ab6-ad51-52fad43bd5be",
   "metadata": {},
   "source": [
    "#### Function without keyword:"
   ]
  },
  {
   "cell_type": "code",
   "execution_count": 19,
   "id": "62188250-8155-468d-aef8-322956ba0d50",
   "metadata": {},
   "outputs": [
    {
     "name": "stdout",
     "output_type": "stream",
     "text": [
      "Second Largest, Second Smallest: (6, 2)\n"
     ]
    }
   ],
   "source": [
    "def second_largest_smallest(nums):\n",
    "    largest = smallest = nums[0]\n",
    "    for num in nums:\n",
    "        if num > largest:\n",
    "            largest = num\n",
    "        if num < smallest:\n",
    "            smallest = num\n",
    "\n",
    "    second_largest = second_smallest = None\n",
    "    for num in nums:\n",
    "        if num != largest:\n",
    "            if second_largest is None or num > second_largest:\n",
    "                second_largest = num\n",
    "        if num != smallest:\n",
    "            if second_smallest is None or num < second_smallest:\n",
    "                second_smallest = num\n",
    "    return second_largest, second_smallest\n",
    "\n",
    "print(\"Second Largest, Second Smallest:\", second_largest_smallest([4, 2, 8, 1, 6]))\n"
   ]
  },
  {
   "cell_type": "markdown",
   "id": "ea3588f5-2c52-41f1-87e7-ebd516e1cbaa",
   "metadata": {},
   "source": [
    "#### Using keyword (sorted):"
   ]
  },
  {
   "cell_type": "code",
   "execution_count": 20,
   "id": "1c96e016-c8da-4612-82c0-cc21f23c65bf",
   "metadata": {},
   "outputs": [
    {
     "name": "stdout",
     "output_type": "stream",
     "text": [
      "Second Largest: 6\n",
      "Second Smallest: 2\n"
     ]
    }
   ],
   "source": [
    "nums = [4, 2, 8, 1, 6]\n",
    "nums_sorted = sorted(nums)\n",
    "print(\"Second Largest:\", nums_sorted[-2])\n",
    "print(\"Second Smallest:\", nums_sorted[1])\n"
   ]
  },
  {
   "cell_type": "markdown",
   "id": "b63940e2-6de9-4653-a9c1-8f52aa7347cb",
   "metadata": {},
   "source": [
    "# 7. Sort in Ascending and Descending Order:"
   ]
  },
  {
   "cell_type": "markdown",
   "id": "3704c62c-f6f6-4118-beca-b06191e9bc41",
   "metadata": {},
   "source": [
    "#### Loop only:"
   ]
  },
  {
   "cell_type": "code",
   "execution_count": 21,
   "id": "39ae55cf-bd9d-4446-b570-4793c3421fd8",
   "metadata": {},
   "outputs": [
    {
     "name": "stdout",
     "output_type": "stream",
     "text": [
      "Ascending: [1, 2, 4, 6, 8]\n",
      "Descending: [8, 6, 4, 2, 1]\n"
     ]
    }
   ],
   "source": [
    "nums = [4, 2, 8, 1, 6]\n",
    "# Bubble Sort Ascending\n",
    "for i in range(len(nums)):\n",
    "    for j in range(0, len(nums)-i-1):\n",
    "        if nums[j] > nums[j+1]:\n",
    "            nums[j], nums[j+1] = nums[j+1], nums[j]\n",
    "print(\"Ascending:\", nums)\n",
    "\n",
    "# Bubble Sort Descending\n",
    "for i in range(len(nums)):\n",
    "    for j in range(0, len(nums)-i-1):\n",
    "        if nums[j] < nums[j+1]:\n",
    "            nums[j], nums[j+1] = nums[j+1], nums[j]\n",
    "print(\"Descending:\", nums)\n"
   ]
  },
  {
   "cell_type": "markdown",
   "id": "65eaf518-f627-4f2f-8f25-a8c9b761d630",
   "metadata": {},
   "source": [
    "#### Function without keyword:"
   ]
  },
  {
   "cell_type": "code",
   "execution_count": 22,
   "id": "24d71506-76a5-4862-949c-464f7b86b9cf",
   "metadata": {},
   "outputs": [
    {
     "name": "stdout",
     "output_type": "stream",
     "text": [
      "Ascending: [1, 2, 4, 6, 8]\n",
      "Descending: [8, 6, 4, 2, 1]\n"
     ]
    }
   ],
   "source": [
    "def bubble_sort(nums, ascending=True):\n",
    "    nums = nums[:]  # Copy list\n",
    "    for i in range(len(nums)):\n",
    "        for j in range(0, len(nums)-i-1):\n",
    "            if (ascending and nums[j] > nums[j+1]) or (not ascending and nums[j] < nums[j+1]):\n",
    "                nums[j], nums[j+1] = nums[j+1], nums[j]\n",
    "    return nums\n",
    "\n",
    "print(\"Ascending:\", bubble_sort([4, 2, 8, 1, 6]))\n",
    "print(\"Descending:\", bubble_sort([4, 2, 8, 1, 6], ascending=False))\n"
   ]
  },
  {
   "cell_type": "markdown",
   "id": "b1143db7-2e5e-4290-be42-30ec71cc5de0",
   "metadata": {},
   "source": [
    "#### Using keyword (sorted, reverse):"
   ]
  },
  {
   "cell_type": "code",
   "execution_count": 23,
   "id": "0735161d-c5e3-4ba5-8fbe-1244009dd2be",
   "metadata": {},
   "outputs": [
    {
     "name": "stdout",
     "output_type": "stream",
     "text": [
      "Ascending: [1, 2, 4, 6, 8]\n",
      "Descending: [8, 6, 4, 2, 1]\n"
     ]
    }
   ],
   "source": [
    "nums = [4, 2, 8, 1, 6]\n",
    "print(\"Ascending:\", sorted(nums))\n",
    "print(\"Descending:\", sorted(nums, reverse=True))\n"
   ]
  },
  {
   "cell_type": "markdown",
   "id": "5340c002-b826-4ff4-8296-49166ce1f6de",
   "metadata": {},
   "source": [
    "# 8. Count Vowels and Consonants:"
   ]
  },
  {
   "cell_type": "markdown",
   "id": "bd980112-fbfc-4f28-9c02-2d389975c54d",
   "metadata": {},
   "source": [
    "#### Loop only:"
   ]
  },
  {
   "cell_type": "code",
   "execution_count": 24,
   "id": "55f52034-30a0-47c5-bf19-e403423d923c",
   "metadata": {},
   "outputs": [
    {
     "name": "stdout",
     "output_type": "stream",
     "text": [
      "Vowels: 3\n",
      "Consonants: 7\n"
     ]
    }
   ],
   "source": [
    "text = \"Hello World\"\n",
    "vowels = \"aeiouAEIOU\"\n",
    "v_count = c_count = 0\n",
    "\n",
    "for ch in text:\n",
    "    if ch.isalpha():\n",
    "        if ch in vowels:\n",
    "            v_count += 1\n",
    "        else:\n",
    "            c_count += 1\n",
    "\n",
    "print(\"Vowels:\", v_count)\n",
    "print(\"Consonants:\", c_count)\n"
   ]
  },
  {
   "cell_type": "markdown",
   "id": "b9dcedfa-8605-4370-98da-30ee58985f39",
   "metadata": {},
   "source": [
    "#### Function without keyword:"
   ]
  },
  {
   "cell_type": "code",
   "execution_count": 25,
   "id": "1ce4f1c0-aad8-4a87-bd6c-189aa1bdebe3",
   "metadata": {},
   "outputs": [
    {
     "name": "stdout",
     "output_type": "stream",
     "text": [
      "Vowels, Consonants: (3, 7)\n"
     ]
    }
   ],
   "source": [
    "def count_vowels_consonants(text):\n",
    "    vowels = \"aeiouAEIOU\"\n",
    "    v_count = c_count = 0\n",
    "    for ch in text:\n",
    "        if ch >= 'A' and ch <= 'Z' or ch >= 'a' and ch <= 'z':\n",
    "            if ch in vowels:\n",
    "                v_count += 1\n",
    "            else:\n",
    "                c_count += 1\n",
    "    return v_count, c_count\n",
    "\n",
    "print(\"Vowels, Consonants:\", count_vowels_consonants(\"Hello World\"))\n"
   ]
  },
  {
   "cell_type": "markdown",
   "id": "d97b8498-3e6d-4a3b-b461-31b408caea9b",
   "metadata": {},
   "source": [
    "#### Using keyword (isalpha):"
   ]
  },
  {
   "cell_type": "code",
   "execution_count": 26,
   "id": "4a1dd9fa-b769-4765-b29f-992e6eef2e58",
   "metadata": {},
   "outputs": [
    {
     "name": "stdout",
     "output_type": "stream",
     "text": [
      "Vowels: 3\n",
      "Consonants: 7\n"
     ]
    }
   ],
   "source": [
    "text = \"Hello World\"\n",
    "vowels = \"aeiouAEIOU\"\n",
    "v_count = sum(1 for ch in text if ch.isalpha() and ch in vowels)\n",
    "c_count = sum(1 for ch in text if ch.isalpha() and ch not in vowels)\n",
    "print(\"Vowels:\", v_count)\n",
    "print(\"Consonants:\", c_count)\n"
   ]
  },
  {
   "cell_type": "markdown",
   "id": "636ec755-6368-4ffb-89e6-9b441e10f6ec",
   "metadata": {},
   "source": [
    "# 9. Sum of Digits:"
   ]
  },
  {
   "cell_type": "markdown",
   "id": "0d537acd-368a-44ac-8576-e41d5ad97929",
   "metadata": {},
   "source": [
    "#### Loop only:"
   ]
  },
  {
   "cell_type": "code",
   "execution_count": null,
   "id": "21bfb1e8-71be-4c65-9d60-60a818c7174b",
   "metadata": {},
   "outputs": [],
   "source": [
    "num = 1234\n",
    "sum_digits = 0\n",
    "while num > 0:\n",
    "    sum_digits += num % 10\n",
    "    num //= 10\n",
    "print(\"Sum of digits:\", sum_digits)\n"
   ]
  },
  {
   "cell_type": "markdown",
   "id": "5e04328a-33bd-4534-8b8c-7172d9229675",
   "metadata": {},
   "source": [
    "#### Function without keyword:"
   ]
  },
  {
   "cell_type": "code",
   "execution_count": 27,
   "id": "ee24c7a5-cb52-4c80-95b2-a2c491ad897c",
   "metadata": {},
   "outputs": [
    {
     "name": "stdout",
     "output_type": "stream",
     "text": [
      "Sum of digits: 10\n"
     ]
    }
   ],
   "source": [
    "def sum_of_digits(num):\n",
    "    total = 0\n",
    "    while num > 0:\n",
    "        total += num % 10\n",
    "        num //= 10\n",
    "    return total\n",
    "\n",
    "print(\"Sum of digits:\", sum_of_digits(1234))\n"
   ]
  },
  {
   "cell_type": "markdown",
   "id": "c3320ea1-8e66-489f-9858-93fb96601ebb",
   "metadata": {},
   "source": [
    "#### Using keyword (sum and str):"
   ]
  },
  {
   "cell_type": "code",
   "execution_count": 28,
   "id": "602a044f-19a2-4111-b49b-19c78e7856bb",
   "metadata": {},
   "outputs": [
    {
     "name": "stdout",
     "output_type": "stream",
     "text": [
      "Sum of digits: 10\n"
     ]
    }
   ],
   "source": [
    "num = 1234\n",
    "print(\"Sum of digits:\", sum(int(d) for d in str(num)))\n"
   ]
  },
  {
   "cell_type": "markdown",
   "id": "bb6869a1-6508-4776-bbf1-f33cf8c9ce5a",
   "metadata": {},
   "source": [
    "# 10. Factorial:"
   ]
  },
  {
   "cell_type": "markdown",
   "id": "fb928f3c-10bb-4a3f-8178-790b1c8b2578",
   "metadata": {},
   "source": [
    "#### Loop only:"
   ]
  },
  {
   "cell_type": "code",
   "execution_count": 29,
   "id": "b12acc39-bf44-4d60-bd63-80ec100f6eb0",
   "metadata": {},
   "outputs": [
    {
     "name": "stdout",
     "output_type": "stream",
     "text": [
      "Factorial: 120\n"
     ]
    }
   ],
   "source": [
    "num = 5\n",
    "fact = 1\n",
    "for i in range(1, num+1):\n",
    "    fact *= i\n",
    "print(\"Factorial:\", fact)\n"
   ]
  },
  {
   "cell_type": "markdown",
   "id": "0e7a20f4-48c8-4cc7-b6a8-0fe09615383d",
   "metadata": {},
   "source": [
    "#### Function without keyword:"
   ]
  },
  {
   "cell_type": "code",
   "execution_count": 30,
   "id": "0a7c2aad-01f7-40a3-bfa3-1921f89992be",
   "metadata": {},
   "outputs": [
    {
     "name": "stdout",
     "output_type": "stream",
     "text": [
      "Factorial: 120\n"
     ]
    }
   ],
   "source": [
    "def factorial(n):\n",
    "    result = 1\n",
    "    for i in range(1, n+1):\n",
    "        result *= i\n",
    "    return result\n",
    "\n",
    "print(\"Factorial:\", factorial(5))\n"
   ]
  },
  {
   "cell_type": "markdown",
   "id": "b5e41e66-d66c-416b-a4ae-21fd96025c23",
   "metadata": {},
   "source": [
    " ####  Using keyword (math.factorial):"
   ]
  },
  {
   "cell_type": "code",
   "execution_count": 31,
   "id": "06bd8f8f-ac0d-4dbe-98d3-a9fb0b0ee8df",
   "metadata": {},
   "outputs": [
    {
     "name": "stdout",
     "output_type": "stream",
     "text": [
      "Factorial: 120\n"
     ]
    }
   ],
   "source": [
    "import math\n",
    "print(\"Factorial:\", math.factorial(5))\n"
   ]
  },
  {
   "cell_type": "markdown",
   "id": "b4873095-9b34-4b90-bbb6-516b7e1d2503",
   "metadata": {},
   "source": [
    "# 11. Check Even or Odd"
   ]
  },
  {
   "cell_type": "markdown",
   "id": "75e53351-f7ee-4dae-bb77-79fecb5fe29e",
   "metadata": {},
   "source": [
    "#### Loop only:"
   ]
  },
  {
   "cell_type": "code",
   "execution_count": 32,
   "id": "95173ac1-9f40-47c9-9243-e6321bb237eb",
   "metadata": {},
   "outputs": [
    {
     "name": "stdout",
     "output_type": "stream",
     "text": [
      "Result: Odd\n"
     ]
    }
   ],
   "source": [
    "num = 7\n",
    "result = \"Even\"\n",
    "if num % 2 != 0:\n",
    "    result = \"Odd\"\n",
    "print(\"Result:\", result)\n"
   ]
  },
  {
   "cell_type": "markdown",
   "id": "71713647-bbb9-48df-b257-88e71f7fa065",
   "metadata": {},
   "source": [
    "#### Function without keyword:"
   ]
  },
  {
   "cell_type": "code",
   "execution_count": 33,
   "id": "3beac3b5-f4b5-441e-919d-e4ce5f6736bc",
   "metadata": {},
   "outputs": [
    {
     "name": "stdout",
     "output_type": "stream",
     "text": [
      "Result: Odd\n"
     ]
    }
   ],
   "source": [
    "def even_or_odd(num):\n",
    "    if num % 2 == 0:\n",
    "        return \"Even\"\n",
    "    else:\n",
    "        return \"Odd\"\n",
    "\n",
    "print(\"Result:\", even_or_odd(7))\n"
   ]
  },
  {
   "cell_type": "markdown",
   "id": "3536ab2a-e63b-4b2d-bb69-dcf1f167a139",
   "metadata": {},
   "source": [
    "#### Using keyword (if still):"
   ]
  },
  {
   "cell_type": "code",
   "execution_count": 34,
   "id": "e0f7f7c3-996a-42ee-a255-41f64d2c384c",
   "metadata": {},
   "outputs": [
    {
     "name": "stdout",
     "output_type": "stream",
     "text": [
      "Result: Odd\n"
     ]
    }
   ],
   "source": [
    "num = 7\n",
    "print(\"Result:\", \"Even\" if num % 2 == 0 else \"Odd\")\n"
   ]
  },
  {
   "cell_type": "markdown",
   "id": "69ce6661-4bb2-42ec-a950-355cf9296669",
   "metadata": {},
   "source": [
    "# 12. Largest of Three Numbers:"
   ]
  },
  {
   "cell_type": "code",
   "execution_count": null,
   "id": "c76f87c5-507e-4cee-a3d6-560c40a1ced2",
   "metadata": {},
   "outputs": [],
   "source": [
    "#### Loop only:"
   ]
  },
  {
   "cell_type": "code",
   "execution_count": 35,
   "id": "9c4562fb-aabf-43da-b556-7ade46e8e84c",
   "metadata": {},
   "outputs": [
    {
     "name": "stdout",
     "output_type": "stream",
     "text": [
      "Largest: 8\n"
     ]
    }
   ],
   "source": [
    "a, b, c = 5, 8, 3\n",
    "largest = a\n",
    "if b > largest:\n",
    "    largest = b\n",
    "if c > largest:\n",
    "    largest = c\n",
    "print(\"Largest:\", largest)\n"
   ]
  },
  {
   "cell_type": "markdown",
   "id": "571a3a40-8743-422c-b4af-8749e44c9c2b",
   "metadata": {},
   "source": [
    "#### Function without keyword:"
   ]
  },
  {
   "cell_type": "code",
   "execution_count": 36,
   "id": "c35a3c71-864f-42fd-b86b-f23014891ddf",
   "metadata": {},
   "outputs": [
    {
     "name": "stdout",
     "output_type": "stream",
     "text": [
      "Largest: 8\n"
     ]
    }
   ],
   "source": [
    "def largest_of_three(a, b, c):\n",
    "    largest = a\n",
    "    if b > largest:\n",
    "        largest = b\n",
    "    if c > largest:\n",
    "        largest = c\n",
    "    return largest\n",
    "\n",
    "print(\"Largest:\", largest_of_three(5, 8, 3))\n"
   ]
  },
  {
   "cell_type": "markdown",
   "id": "f1ece13c-cbf5-49c1-a1f4-c61b111649cd",
   "metadata": {},
   "source": [
    "#### Using keyword (max):"
   ]
  },
  {
   "cell_type": "code",
   "execution_count": 37,
   "id": "88cb5688-bd94-4129-a808-f22ecc1f6189",
   "metadata": {},
   "outputs": [
    {
     "name": "stdout",
     "output_type": "stream",
     "text": [
      "Largest: 8\n"
     ]
    }
   ],
   "source": [
    "a, b, c = 5, 8, 3\n",
    "print(\"Largest:\", max(a, b, c))\n"
   ]
  },
  {
   "cell_type": "markdown",
   "id": "67cbbe59-d885-4b47-bc0d-c08f38436c5a",
   "metadata": {},
   "source": [
    "# 13. Count Frequency of Elements in List:"
   ]
  },
  {
   "cell_type": "markdown",
   "id": "dbcce0ad-172b-4358-9fa9-a9a8100ff017",
   "metadata": {},
   "source": [
    "#### Loop only:"
   ]
  },
  {
   "cell_type": "code",
   "execution_count": 38,
   "id": "9f714749-9e16-40bc-9da7-7e361c60c93a",
   "metadata": {},
   "outputs": [
    {
     "name": "stdout",
     "output_type": "stream",
     "text": [
      "Frequency: [(1, 3), (2, 2), (3, 1)]\n"
     ]
    }
   ],
   "source": [
    "lst = [1, 2, 2, 3, 1, 1]\n",
    "freq = []\n",
    "unique = []\n",
    "\n",
    "for item in lst:\n",
    "    if item not in unique:\n",
    "        unique.append(item)\n",
    "        count = 0\n",
    "        for i in lst:\n",
    "            if i == item:\n",
    "                count += 1\n",
    "        freq.append((item, count))\n",
    "\n",
    "print(\"Frequency:\", freq)\n"
   ]
  },
  {
   "cell_type": "markdown",
   "id": "77039af1-78e2-4888-b7f3-36a68e8cf45b",
   "metadata": {},
   "source": [
    "#### Function without keyword:"
   ]
  },
  {
   "cell_type": "code",
   "execution_count": 39,
   "id": "533d17d3-6626-4980-87f8-a309c4f53e0d",
   "metadata": {},
   "outputs": [
    {
     "name": "stdout",
     "output_type": "stream",
     "text": [
      "Frequency: [(1, 3), (2, 2), (3, 1)]\n"
     ]
    }
   ],
   "source": [
    "def count_frequency(lst):\n",
    "    freq = []\n",
    "    unique = []\n",
    "    for item in lst:\n",
    "        if item not in unique:\n",
    "            unique.append(item)\n",
    "            count = 0\n",
    "            for i in lst:\n",
    "                if i == item:\n",
    "                    count += 1\n",
    "            freq.append((item, count))\n",
    "    return freq\n",
    "\n",
    "print(\"Frequency:\", count_frequency([1, 2, 2, 3, 1, 1]))\n"
   ]
  },
  {
   "cell_type": "markdown",
   "id": "8178a307-d173-4af8-9aed-49bc7bd239f5",
   "metadata": {},
   "source": [
    "#### Using keyword (collections.Counter):"
   ]
  },
  {
   "cell_type": "code",
   "execution_count": 40,
   "id": "70823b4b-1f5e-4f9e-ad07-a7097ca16c73",
   "metadata": {},
   "outputs": [
    {
     "name": "stdout",
     "output_type": "stream",
     "text": [
      "Frequency: {1: 3, 2: 2, 3: 1}\n"
     ]
    }
   ],
   "source": [
    "from collections import Counter\n",
    "lst = [1, 2, 2, 3, 1, 1]\n",
    "print(\"Frequency:\", dict(Counter(lst)))\n"
   ]
  },
  {
   "cell_type": "markdown",
   "id": "fb56e8e1-5326-4441-bd4a-77397f4df1f4",
   "metadata": {},
   "source": [
    "# 14. Reverse a String:"
   ]
  },
  {
   "cell_type": "markdown",
   "id": "96e42546-6d54-4f15-a271-24692955e055",
   "metadata": {},
   "source": [
    "#### Loop only:"
   ]
  },
  {
   "cell_type": "code",
   "execution_count": 41,
   "id": "309e51ed-ff65-41e5-87ab-efe821d1b614",
   "metadata": {},
   "outputs": [
    {
     "name": "stdout",
     "output_type": "stream",
     "text": [
      "Reversed: olleh\n"
     ]
    }
   ],
   "source": [
    "s = \"hello\"\n",
    "rev = \"\"\n",
    "for ch in s:\n",
    "    rev = ch + rev\n",
    "print(\"Reversed:\", rev)\n"
   ]
  },
  {
   "cell_type": "markdown",
   "id": "cd954794-5dbe-4637-9e4f-ed43face7e0c",
   "metadata": {},
   "source": [
    "#### Function without keyword:"
   ]
  },
  {
   "cell_type": "code",
   "execution_count": 42,
   "id": "8a5b21c2-23a9-4c40-ac2a-5cd43331812f",
   "metadata": {},
   "outputs": [
    {
     "name": "stdout",
     "output_type": "stream",
     "text": [
      "Reversed: olleh\n"
     ]
    }
   ],
   "source": [
    "def reverse_string(s):\n",
    "    rev = \"\"\n",
    "    for ch in s:\n",
    "        rev = ch + rev\n",
    "    return rev\n",
    "\n",
    "print(\"Reversed:\", reverse_string(\"hello\"))\n"
   ]
  },
  {
   "cell_type": "markdown",
   "id": "20a34422-fa63-4d24-9a6f-751c0e587a31",
   "metadata": {},
   "source": [
    "####  Using keyword ([::-1]):"
   ]
  },
  {
   "cell_type": "code",
   "execution_count": 43,
   "id": "cc5ef773-fdc3-4345-a222-6c6ddce23b60",
   "metadata": {},
   "outputs": [
    {
     "name": "stdout",
     "output_type": "stream",
     "text": [
      "Reversed: olleh\n"
     ]
    }
   ],
   "source": [
    "s = \"hello\"\n",
    "print(\"Reversed:\", s[::-1])\n"
   ]
  },
  {
   "cell_type": "markdown",
   "id": "25c4cdf6-aeaa-4383-8ba1-d48b64cf3878",
   "metadata": {},
   "source": [
    "# 15. Check Armstrong Number:"
   ]
  },
  {
   "cell_type": "markdown",
   "id": "f9dac5d9-ef02-4bda-a4a0-f654ef93c522",
   "metadata": {},
   "source": [
    "#### Loop only:"
   ]
  },
  {
   "cell_type": "code",
   "execution_count": 44,
   "id": "c0e28f15-2aa8-40b4-9714-6e5e418ae1c7",
   "metadata": {},
   "outputs": [
    {
     "name": "stdout",
     "output_type": "stream",
     "text": [
      "Armstrong: True\n"
     ]
    }
   ],
   "source": [
    "num = 153\n",
    "n = num\n",
    "digits = 0\n",
    "temp = n\n",
    "while temp > 0:\n",
    "    digits += 1\n",
    "    temp //= 10\n",
    "\n",
    "sum_pow = 0\n",
    "temp = n\n",
    "while temp > 0:\n",
    "    digit = temp % 10\n",
    "    p = 1\n",
    "    for i in range(digits):\n",
    "        p *= digit\n",
    "    sum_pow += p\n",
    "    temp //= 10\n",
    "\n",
    "print(\"Armstrong:\", sum_pow == num)\n"
   ]
  },
  {
   "cell_type": "markdown",
   "id": "466727ad-fa20-424f-9b58-7f76b39b17c8",
   "metadata": {},
   "source": [
    "#### Function without keyword:"
   ]
  },
  {
   "cell_type": "code",
   "execution_count": 45,
   "id": "7a93b834-5d5d-447f-beb2-9c3f51f40a6f",
   "metadata": {},
   "outputs": [
    {
     "name": "stdout",
     "output_type": "stream",
     "text": [
      "Armstrong: True\n"
     ]
    }
   ],
   "source": [
    "def is_armstrong(num):\n",
    "    n = num\n",
    "    digits = 0\n",
    "    temp = n\n",
    "    while temp > 0:\n",
    "        digits += 1\n",
    "        temp //= 10\n",
    "    sum_pow = 0\n",
    "    temp = n\n",
    "    while temp > 0:\n",
    "        digit = temp % 10\n",
    "        p = 1\n",
    "        for i in range(digits):\n",
    "            p *= digit\n",
    "        sum_pow += p\n",
    "        temp //= 10\n",
    "    return sum_pow == num\n",
    "\n",
    "print(\"Armstrong:\", is_armstrong(153))\n"
   ]
  },
  {
   "cell_type": "markdown",
   "id": "be7eda95-efa1-4808-92ce-bb710d223431",
   "metadata": {},
   "source": [
    "#### Using keyword (pow):"
   ]
  },
  {
   "cell_type": "code",
   "execution_count": 46,
   "id": "f94266ba-b7cc-4e68-9216-7171c6f47e8d",
   "metadata": {},
   "outputs": [
    {
     "name": "stdout",
     "output_type": "stream",
     "text": [
      "Armstrong: True\n"
     ]
    }
   ],
   "source": [
    "num = 153\n",
    "digits = len(str(num))\n",
    "sum_pow = sum(int(d)**digits for d in str(num))\n",
    "print(\"Armstrong:\", sum_pow == num)\n"
   ]
  },
  {
   "cell_type": "markdown",
   "id": "117ec661-b808-447d-b8ad-09d30e3be1f7",
   "metadata": {},
   "source": [
    "# 16. Multiplication Table:"
   ]
  },
  {
   "cell_type": "markdown",
   "id": "f174b3dd-d6bb-41ec-abe0-1158de2a48ad",
   "metadata": {},
   "source": [
    "#### Loop only:"
   ]
  },
  {
   "cell_type": "code",
   "execution_count": 47,
   "id": "66c82d75-cfa2-44a7-85ee-b4739b4abd1c",
   "metadata": {},
   "outputs": [
    {
     "name": "stdout",
     "output_type": "stream",
     "text": [
      "5 x 1 = 5\n",
      "5 x 2 = 10\n",
      "5 x 3 = 15\n",
      "5 x 4 = 20\n",
      "5 x 5 = 25\n",
      "5 x 6 = 30\n",
      "5 x 7 = 35\n",
      "5 x 8 = 40\n",
      "5 x 9 = 45\n",
      "5 x 10 = 50\n"
     ]
    }
   ],
   "source": [
    "num = 5\n",
    "for i in range(1, 11):\n",
    "    print(num, \"x\", i, \"=\", num * i)\n"
   ]
  },
  {
   "cell_type": "markdown",
   "id": "00f717ee-05ab-4554-9ae1-2ed41211de67",
   "metadata": {},
   "source": [
    "#### Function without keyword:"
   ]
  },
  {
   "cell_type": "code",
   "execution_count": 48,
   "id": "be469618-8109-4c9d-9433-5919b6dfe246",
   "metadata": {},
   "outputs": [
    {
     "name": "stdout",
     "output_type": "stream",
     "text": [
      "5 x 1 = 5\n",
      "5 x 2 = 10\n",
      "5 x 3 = 15\n",
      "5 x 4 = 20\n",
      "5 x 5 = 25\n",
      "5 x 6 = 30\n",
      "5 x 7 = 35\n",
      "5 x 8 = 40\n",
      "5 x 9 = 45\n",
      "5 x 10 = 50\n"
     ]
    }
   ],
   "source": [
    "def multiplication_table(num):\n",
    "    for i in range(1, 11):\n",
    "        print(num, \"x\", i, \"=\", num * i)\n",
    "\n",
    "multiplication_table(5)\n"
   ]
  },
  {
   "cell_type": "markdown",
   "id": "acce002a-0c41-4631-a4c0-7359605aea27",
   "metadata": {},
   "source": [
    "#### Using keyword (f-string for format):"
   ]
  },
  {
   "cell_type": "code",
   "execution_count": 49,
   "id": "60cbbeb4-dcfd-434b-afd6-8e8ae801a1ae",
   "metadata": {},
   "outputs": [
    {
     "name": "stdout",
     "output_type": "stream",
     "text": [
      "5 x 1 = 5\n",
      "5 x 2 = 10\n",
      "5 x 3 = 15\n",
      "5 x 4 = 20\n",
      "5 x 5 = 25\n",
      "5 x 6 = 30\n",
      "5 x 7 = 35\n",
      "5 x 8 = 40\n",
      "5 x 9 = 45\n",
      "5 x 10 = 50\n"
     ]
    }
   ],
   "source": [
    "num = 5\n",
    "for i in range(1, 11):\n",
    "    print(f\"{num} x {i} = {num * i}\")\n"
   ]
  },
  {
   "cell_type": "markdown",
   "id": "ed4d38d5-2ffe-455a-aba1-445b7bc6da64",
   "metadata": {},
   "source": [
    "# 17. Remove Duplicates from List;"
   ]
  },
  {
   "cell_type": "markdown",
   "id": "530204aa-411b-4d4e-86e1-5aa859f828a7",
   "metadata": {},
   "source": [
    "#### Loop only:"
   ]
  },
  {
   "cell_type": "code",
   "execution_count": 50,
   "id": "67eab4c1-6983-4935-b2e0-4bb8c7aef63a",
   "metadata": {},
   "outputs": [
    {
     "name": "stdout",
     "output_type": "stream",
     "text": [
      "Unique: [1, 2, 3, 4]\n"
     ]
    }
   ],
   "source": [
    "lst = [1, 2, 2, 3, 1, 4]\n",
    "unique = []\n",
    "for item in lst:\n",
    "    if item not in unique:\n",
    "        unique.append(item)\n",
    "print(\"Unique:\", unique)\n"
   ]
  },
  {
   "cell_type": "markdown",
   "id": "f479e91a-c243-4299-9f2d-ab3a1f37c9e0",
   "metadata": {},
   "source": [
    "#### Function without keyword:"
   ]
  },
  {
   "cell_type": "code",
   "execution_count": 2,
   "id": "5d2b17f2-6274-4c42-95c2-1fafb259652a",
   "metadata": {},
   "outputs": [
    {
     "name": "stdout",
     "output_type": "stream",
     "text": [
      "Unique: [1, 2, 3, 4]\n"
     ]
    }
   ],
   "source": [
    "def remove_duplicates(lst):\n",
    "    unique = []\n",
    "    for item in lst:\n",
    "        if item not in unique:\n",
    "            unique.append(item)\n",
    "    return unique\n",
    "\n",
    "print(\"Unique:\", remove_duplicates([1, 2, 2, 3, 1, 4]))\n"
   ]
  },
  {
   "cell_type": "markdown",
   "id": "9338b0ba-5eda-47f6-abc1-608a7c53d502",
   "metadata": {},
   "source": [
    "####  Using keyword (set):"
   ]
  },
  {
   "cell_type": "code",
   "execution_count": 52,
   "id": "9027b050-9c7a-4e64-ae63-2c600976f599",
   "metadata": {},
   "outputs": [
    {
     "name": "stdout",
     "output_type": "stream",
     "text": [
      "Unique: [1, 2, 3, 4]\n"
     ]
    }
   ],
   "source": [
    "lst = [1, 2, 2, 3, 1, 4]\n",
    "print(\"Unique:\", list(set(lst)))\n"
   ]
  },
  {
   "cell_type": "markdown",
   "id": "75a1a2f2-aab0-4f03-9aa9-965c8d1014a0",
   "metadata": {},
   "source": [
    "# 18. Merge and Sort Two Lists:"
   ]
  },
  {
   "cell_type": "markdown",
   "id": "dd84374d-a592-4815-8cb4-5e8275ab3767",
   "metadata": {},
   "source": [
    "#### Loop only:"
   ]
  },
  {
   "cell_type": "code",
   "execution_count": 53,
   "id": "e6a8b2ae-55dd-423c-8e29-688d4d5d65bb",
   "metadata": {},
   "outputs": [
    {
     "name": "stdout",
     "output_type": "stream",
     "text": [
      "Merged & Sorted: [1, 2, 3, 4]\n"
     ]
    }
   ],
   "source": [
    "a = [3, 1]\n",
    "b = [2, 4]\n",
    "merged = []\n",
    "for item in a:\n",
    "    merged.append(item)\n",
    "for item in b:\n",
    "    merged.append(item)\n",
    "\n",
    "# Bubble sort\n",
    "for i in range(len(merged)):\n",
    "    for j in range(0, len(merged)-i-1):\n",
    "        if merged[j] > merged[j+1]:\n",
    "            merged[j], merged[j+1] = merged[j+1], merged[j]\n",
    "\n",
    "print(\"Merged & Sorted:\", merged)\n"
   ]
  },
  {
   "cell_type": "markdown",
   "id": "eb8a27ac-368e-48a5-b02c-cbc794e6ffc3",
   "metadata": {},
   "source": [
    "#### Function without keyword:"
   ]
  },
  {
   "cell_type": "code",
   "execution_count": 54,
   "id": "f87afd37-5630-4904-b9df-1aa4a71c972e",
   "metadata": {},
   "outputs": [
    {
     "name": "stdout",
     "output_type": "stream",
     "text": [
      "Merged & Sorted: [1, 2, 3, 4]\n"
     ]
    }
   ],
   "source": [
    "def merge_sort_lists(a, b):\n",
    "    merged = []\n",
    "    for item in a:\n",
    "        merged.append(item)\n",
    "    for item in b:\n",
    "        merged.append(item)\n",
    "    for i in range(len(merged)):\n",
    "        for j in range(0, len(merged)-i-1):\n",
    "            if merged[j] > merged[j+1]:\n",
    "                merged[j], merged[j+1] = merged[j+1], merged[j]\n",
    "    return merged\n",
    "\n",
    "print(\"Merged & Sorted:\", merge_sort_lists([3, 1], [2, 4]))\n"
   ]
  },
  {
   "cell_type": "markdown",
   "id": "6f67d365-743e-4085-87de-1c926a4dbd3a",
   "metadata": {},
   "source": [
    "#### Using keyword (+ and sorted):"
   ]
  },
  {
   "cell_type": "code",
   "execution_count": 55,
   "id": "8f2fed25-3618-43d9-960b-a7a6813d767f",
   "metadata": {},
   "outputs": [
    {
     "name": "stdout",
     "output_type": "stream",
     "text": [
      "Merged & Sorted: [1, 2, 3, 4]\n"
     ]
    }
   ],
   "source": [
    "a = [3, 1]\n",
    "b = [2, 4]\n",
    "print(\"Merged & Sorted:\", sorted(a + b))\n"
   ]
  },
  {
   "cell_type": "markdown",
   "id": "5419bafa-adca-43bb-a15f-61524c32ab0d",
   "metadata": {},
   "source": [
    "#  19. Celsius to Fahrenheit:"
   ]
  },
  {
   "cell_type": "markdown",
   "id": "ef2640d0-733a-4f99-8eb7-0c846032e303",
   "metadata": {},
   "source": [
    "#### Loop only:"
   ]
  },
  {
   "cell_type": "code",
   "execution_count": 56,
   "id": "f0b640bb-8ed9-4738-8ef4-47fb3843fbb1",
   "metadata": {},
   "outputs": [
    {
     "name": "stdout",
     "output_type": "stream",
     "text": [
      "Fahrenheit: 98.6\n"
     ]
    }
   ],
   "source": [
    "c = 37\n",
    "f = (c * 9/5) + 32\n",
    "print(\"Fahrenheit:\", f)\n"
   ]
  },
  {
   "cell_type": "markdown",
   "id": "35ff90ec-8ad2-4cad-9863-47dc5a8731d8",
   "metadata": {},
   "source": [
    "#### Function without keyword:"
   ]
  },
  {
   "cell_type": "code",
   "execution_count": 57,
   "id": "3bcbed62-0234-4b32-9914-64d5a1b20a02",
   "metadata": {},
   "outputs": [
    {
     "name": "stdout",
     "output_type": "stream",
     "text": [
      "Fahrenheit: 98.6\n"
     ]
    }
   ],
   "source": [
    "def c_to_f(c):\n",
    "    return (c * 9/5) + 32\n",
    "\n",
    "print(\"Fahrenheit:\", c_to_f(37))\n"
   ]
  },
  {
   "cell_type": "markdown",
   "id": "102c09d6-f0d8-41e3-8265-45d753f9501e",
   "metadata": {},
   "source": [
    "#### Using keyword (no real shortcut):"
   ]
  },
  {
   "cell_type": "code",
   "execution_count": 58,
   "id": "70bc91ce-6b37-45c1-b0ba-2f5fabd646aa",
   "metadata": {},
   "outputs": [
    {
     "name": "stdout",
     "output_type": "stream",
     "text": [
      "Fahrenheit: 98.6\n"
     ]
    }
   ],
   "source": [
    "c = 37\n",
    "print(\"Fahrenheit:\", f\"{(c * 9/5) + 32}\")\n"
   ]
  },
  {
   "cell_type": "markdown",
   "id": "8d101a38-cc93-4384-a938-fef7ab6726a3",
   "metadata": {},
   "source": [
    "# 20. Check Leap Year:"
   ]
  },
  {
   "cell_type": "markdown",
   "id": "1f33139a-531b-4eb9-b2c1-8a3b84efb391",
   "metadata": {},
   "source": [
    "#### Loop only:"
   ]
  },
  {
   "cell_type": "code",
   "execution_count": 59,
   "id": "a6e5bea8-9731-4218-86ef-343e04a3d14e",
   "metadata": {},
   "outputs": [
    {
     "name": "stdout",
     "output_type": "stream",
     "text": [
      "Leap Year: True\n"
     ]
    }
   ],
   "source": [
    "year = 2024\n",
    "is_leap = False\n",
    "if year % 4 == 0:\n",
    "    if year % 100 != 0:\n",
    "        is_leap = True\n",
    "    elif year % 400 == 0:\n",
    "        is_leap = True\n",
    "print(\"Leap Year:\", is_leap)\n"
   ]
  },
  {
   "cell_type": "markdown",
   "id": "3f549862-dc3e-4052-bfbc-8c033808007b",
   "metadata": {},
   "source": [
    "#### Function without keyword:"
   ]
  },
  {
   "cell_type": "code",
   "execution_count": 60,
   "id": "dac6cf54-b681-4934-9854-c087d5b51232",
   "metadata": {},
   "outputs": [
    {
     "name": "stdout",
     "output_type": "stream",
     "text": [
      "Leap Year: True\n"
     ]
    }
   ],
   "source": [
    "def is_leap_year(year):\n",
    "    if year % 4 == 0:\n",
    "        if year % 100 != 0:\n",
    "            return True\n",
    "        elif year % 400 == 0:\n",
    "            return True\n",
    "    return False\n",
    "\n",
    "print(\"Leap Year:\", is_leap_year(2024))\n"
   ]
  },
  {
   "cell_type": "markdown",
   "id": "d1848d02-209b-470e-bd9d-f13986d67175",
   "metadata": {},
   "source": [
    "####  Using keyword (calendar):"
   ]
  },
  {
   "cell_type": "code",
   "execution_count": 61,
   "id": "a0b62a18-7b07-4791-9211-ee2ba2311cb6",
   "metadata": {},
   "outputs": [
    {
     "name": "stdout",
     "output_type": "stream",
     "text": [
      "Leap Year: True\n"
     ]
    }
   ],
   "source": [
    "import calendar\n",
    "print(\"Leap Year:\", calendar.isleap(2024))\n"
   ]
  },
  {
   "cell_type": "markdown",
   "id": "b3ea1c0e-f6cc-4539-a253-beb5e2fc4e80",
   "metadata": {},
   "source": [
    "#  21. Find Common Elements Between Two Lists:"
   ]
  },
  {
   "cell_type": "markdown",
   "id": "344da334-a3f7-4dd3-9991-17e9a311488d",
   "metadata": {},
   "source": [
    "#### Loop only:"
   ]
  },
  {
   "cell_type": "code",
   "execution_count": 62,
   "id": "3fe8426b-a062-4aa9-86d3-0bf439fe27ef",
   "metadata": {},
   "outputs": [
    {
     "name": "stdout",
     "output_type": "stream",
     "text": [
      "Common: [3, 4]\n"
     ]
    }
   ],
   "source": [
    "a = [1, 2, 3, 4]\n",
    "b = [3, 4, 5, 6]\n",
    "common = []\n",
    "for i in a:\n",
    "    for j in b:\n",
    "        if i == j and i not in common:\n",
    "            common.append(i)\n",
    "print(\"Common:\", common)\n"
   ]
  },
  {
   "cell_type": "markdown",
   "id": "59d36ab9-41ee-47c8-a460-1961be28c882",
   "metadata": {},
   "source": [
    "#### Function without keyword:"
   ]
  },
  {
   "cell_type": "code",
   "execution_count": 63,
   "id": "b650ca4c-df1e-4fb4-b614-b8962e838722",
   "metadata": {},
   "outputs": [
    {
     "name": "stdout",
     "output_type": "stream",
     "text": [
      "Common: [3, 4]\n"
     ]
    }
   ],
   "source": [
    "def common_elements(a, b):\n",
    "    common = []\n",
    "    for i in a:\n",
    "        for j in b:\n",
    "            if i == j and i not in common:\n",
    "                common.append(i)\n",
    "    return common\n",
    "\n",
    "print(\"Common:\", common_elements([1, 2, 3, 4], [3, 4, 5, 6]))\n"
   ]
  },
  {
   "cell_type": "markdown",
   "id": "223ce5da-8e9d-4d07-ab1e-fe135c291cb0",
   "metadata": {},
   "source": [
    "####  Using keyword (set):"
   ]
  },
  {
   "cell_type": "code",
   "execution_count": 64,
   "id": "535ef16c-3c57-4696-8128-478da459e59e",
   "metadata": {},
   "outputs": [
    {
     "name": "stdout",
     "output_type": "stream",
     "text": [
      "Common: [3, 4]\n"
     ]
    }
   ],
   "source": [
    "a = [1, 2, 3, 4]\n",
    "b = [3, 4, 5, 6]\n",
    "print(\"Common:\", list(set(a) & set(b)))\n"
   ]
  },
  {
   "cell_type": "markdown",
   "id": "a875d2ee-a2e9-4701-a07a-7c26afb7b558",
   "metadata": {},
   "source": [
    "#  22. Calculate Area of Circle:"
   ]
  },
  {
   "cell_type": "markdown",
   "id": "b9b99a10-77c9-42ab-be0d-b8d5d93fcddb",
   "metadata": {},
   "source": [
    "#### Loop only:"
   ]
  },
  {
   "cell_type": "code",
   "execution_count": 65,
   "id": "91c4ff77-3e6d-483e-bd56-39da5ea511bb",
   "metadata": {},
   "outputs": [
    {
     "name": "stdout",
     "output_type": "stream",
     "text": [
      "Area: 78.53975\n"
     ]
    }
   ],
   "source": [
    "radius = 5\n",
    "pi = 3.14159\n",
    "area = pi * radius * radius\n",
    "print(\"Area:\", area)\n"
   ]
  },
  {
   "cell_type": "markdown",
   "id": "c9f76015-746b-4764-8a6b-2de27bcbe4b4",
   "metadata": {},
   "source": [
    "#### Function without keyword:"
   ]
  },
  {
   "cell_type": "code",
   "execution_count": 66,
   "id": "57a1f271-d95a-4c4e-8101-759c5a886666",
   "metadata": {},
   "outputs": [
    {
     "name": "stdout",
     "output_type": "stream",
     "text": [
      "Area: 78.53975\n"
     ]
    }
   ],
   "source": [
    "def area_circle(r):\n",
    "    pi = 3.14159\n",
    "    return pi * r * r\n",
    "\n",
    "print(\"Area:\", area_circle(5))\n"
   ]
  },
  {
   "cell_type": "markdown",
   "id": "ee2fe564-6fa8-4361-bd84-31151fbd710c",
   "metadata": {},
   "source": [
    "####  Using keyword (math.pi):"
   ]
  },
  {
   "cell_type": "code",
   "execution_count": 67,
   "id": "9dd1c4c4-d25a-466a-b9e1-708eb527554d",
   "metadata": {},
   "outputs": [
    {
     "name": "stdout",
     "output_type": "stream",
     "text": [
      "Area: 78.53981633974483\n"
     ]
    }
   ],
   "source": [
    "import math\n",
    "radius = 5\n",
    "print(\"Area:\", math.pi * radius ** 2)\n"
   ]
  },
  {
   "cell_type": "markdown",
   "id": "449a3487-ebb0-4082-9448-5eb874079627",
   "metadata": {},
   "source": [
    "#  23. Positive, Negative or Zero:"
   ]
  },
  {
   "cell_type": "markdown",
   "id": "670ba7c8-d5f8-4352-bb00-65862e1d0af7",
   "metadata": {},
   "source": [
    "#### Loop only:"
   ]
  },
  {
   "cell_type": "code",
   "execution_count": 68,
   "id": "63598ec7-5ecd-47b6-9a7c-72c7c4c7af0f",
   "metadata": {},
   "outputs": [
    {
     "name": "stdout",
     "output_type": "stream",
     "text": [
      "Result: Negative\n"
     ]
    }
   ],
   "source": [
    "num = -5\n",
    "if num > 0:\n",
    "    result = \"Positive\"\n",
    "elif num < 0:\n",
    "    result = \"Negative\"\n",
    "else:\n",
    "    result = \"Zero\"\n",
    "print(\"Result:\", result)\n"
   ]
  },
  {
   "cell_type": "markdown",
   "id": "a5b3d13a-e1fd-4e11-b105-d9e78edca97f",
   "metadata": {},
   "source": [
    "#### Function without keyword:"
   ]
  },
  {
   "cell_type": "code",
   "execution_count": 69,
   "id": "67f44e72-1a89-4aa9-b764-1641ed8ad64d",
   "metadata": {},
   "outputs": [
    {
     "name": "stdout",
     "output_type": "stream",
     "text": [
      "Result: Negative\n"
     ]
    }
   ],
   "source": [
    "def check_number(num):\n",
    "    if num > 0:\n",
    "        return \"Positive\"\n",
    "    elif num < 0:\n",
    "        return \"Negative\"\n",
    "    else:\n",
    "        return \"Zero\"\n",
    "\n",
    "print(\"Result:\", check_number(-5))\n"
   ]
  },
  {
   "cell_type": "markdown",
   "id": "c9f7c839-6101-4680-84ad-8d2d321bac01",
   "metadata": {},
   "source": [
    "####  Using keyword (ternary):"
   ]
  },
  {
   "cell_type": "code",
   "execution_count": 70,
   "id": "87b87df6-cea3-40c1-b06d-0034601da54d",
   "metadata": {},
   "outputs": [
    {
     "name": "stdout",
     "output_type": "stream",
     "text": [
      "Result: Negative\n"
     ]
    }
   ],
   "source": [
    "num = -5\n",
    "print(\"Result:\", \"Positive\" if num > 0 else \"Negative\" if num < 0 else \"Zero\")\n"
   ]
  },
  {
   "cell_type": "markdown",
   "id": "91f6a83e-4b2c-4317-add0-5e81676a5cf3",
   "metadata": {},
   "source": [
    "#  24. Remove Punctuation from String"
   ]
  },
  {
   "cell_type": "markdown",
   "id": "9ea9e399-9832-44b7-855c-7b829cdacb55",
   "metadata": {},
   "source": [
    "#### Loop only:"
   ]
  },
  {
   "cell_type": "code",
   "execution_count": 71,
   "id": "19ed6f1c-14f7-45d4-9da0-7cea0b892a7c",
   "metadata": {},
   "outputs": [
    {
     "name": "stdout",
     "output_type": "stream",
     "text": [
      "Clean: Hello World\n"
     ]
    }
   ],
   "source": [
    "text = \"Hello, World!\"\n",
    "clean = \"\"\n",
    "for ch in text:\n",
    "    if not (ch in \".,!?\"):\n",
    "        clean += ch\n",
    "print(\"Clean:\", clean)\n"
   ]
  },
  {
   "cell_type": "markdown",
   "id": "6407fe36-b793-41db-aeb4-ce89759b70a2",
   "metadata": {},
   "source": [
    "#### Function without keyword:"
   ]
  },
  {
   "cell_type": "code",
   "execution_count": 72,
   "id": "57ed1cac-7c8b-4655-9ef6-0df7ffa115cd",
   "metadata": {},
   "outputs": [
    {
     "name": "stdout",
     "output_type": "stream",
     "text": [
      "Clean: Hello World\n"
     ]
    }
   ],
   "source": [
    "def remove_punct(text):\n",
    "    punct = \".,!?;:'\\\"\"\n",
    "    clean = \"\"\n",
    "    for ch in text:\n",
    "        if ch not in punct:\n",
    "            clean += ch\n",
    "    return clean\n",
    "\n",
    "print(\"Clean:\", remove_punct(\"Hello, World!\"))\n"
   ]
  },
  {
   "cell_type": "markdown",
   "id": "6c835048-e0e3-4d74-bc8b-8cc7d52921a3",
   "metadata": {},
   "source": [
    "#### Using keyword (string.punctuation):"
   ]
  },
  {
   "cell_type": "code",
   "execution_count": 73,
   "id": "47949a3d-0cf6-45dd-9ae5-7ef2a9e88c2b",
   "metadata": {},
   "outputs": [
    {
     "name": "stdout",
     "output_type": "stream",
     "text": [
      "Clean: Hello World\n"
     ]
    }
   ],
   "source": [
    "import string\n",
    "text = \"Hello, World!\"\n",
    "print(\"Clean:\", ''.join(ch for ch in text if ch not in string.punctuation))\n"
   ]
  },
  {
   "cell_type": "markdown",
   "id": "15450826-40db-4a60-a4b5-2bc22fe4bb71",
   "metadata": {},
   "source": [
    "# 25. Convert Decimal to Binary:"
   ]
  },
  {
   "cell_type": "markdown",
   "id": "9ba14bfe-dff0-4dfb-a1c1-97ca262e19f1",
   "metadata": {},
   "source": [
    "#### Loop only:"
   ]
  },
  {
   "cell_type": "code",
   "execution_count": 74,
   "id": "100ade54-2938-4066-a847-d2c3188da582",
   "metadata": {},
   "outputs": [
    {
     "name": "stdout",
     "output_type": "stream",
     "text": [
      "Binary: 1010\n"
     ]
    }
   ],
   "source": [
    "num = 10\n",
    "binary = \"\"\n",
    "n = num\n",
    "while n > 0:\n",
    "    binary = str(n % 2) + binary\n",
    "    n //= 2\n",
    "print(\"Binary:\", binary)\n"
   ]
  },
  {
   "cell_type": "markdown",
   "id": "67c8538f-9aca-47ce-8fef-6d02f97ee4b9",
   "metadata": {},
   "source": [
    "#### Function without keyword:"
   ]
  },
  {
   "cell_type": "code",
   "execution_count": 76,
   "id": "cb7054d5-c3bf-4d28-9324-95d2468fd9a6",
   "metadata": {},
   "outputs": [
    {
     "name": "stdout",
     "output_type": "stream",
     "text": [
      "Binary: 1010\n"
     ]
    }
   ],
   "source": [
    "def dec_to_bin(num):\n",
    "    binary = \"\"\n",
    "    while num > 0:\n",
    "        binary = str(num % 2) + binary\n",
    "        num //= 2\n",
    "    return binary\n",
    "\n",
    "print(\"Binary:\", dec_to_bin(10))\n"
   ]
  },
  {
   "cell_type": "markdown",
   "id": "5389d4da-296c-4375-9e30-3bf98e48750a",
   "metadata": {},
   "source": [
    "#### Using keyword (bin):"
   ]
  },
  {
   "cell_type": "code",
   "execution_count": 77,
   "id": "f3ec5b2f-32a5-443c-899f-23cd57e5b115",
   "metadata": {},
   "outputs": [
    {
     "name": "stdout",
     "output_type": "stream",
     "text": [
      "Binary: 1010\n"
     ]
    }
   ],
   "source": [
    "num = 10\n",
    "print(\"Binary:\", bin(num)[2:])\n"
   ]
  },
  {
   "cell_type": "markdown",
   "id": "6855b2a6-5f96-4912-928c-b8b0b87c468b",
   "metadata": {},
   "source": [
    "# 26. Sum of All Elements in List:"
   ]
  },
  {
   "cell_type": "markdown",
   "id": "e47aae78-0818-44ef-8fb7-a2cbcf83dca1",
   "metadata": {},
   "source": [
    "#### Loop only:"
   ]
  },
  {
   "cell_type": "code",
   "execution_count": 78,
   "id": "0309360c-e5c4-4be7-ad22-9c4df09c9ba4",
   "metadata": {},
   "outputs": [
    {
     "name": "stdout",
     "output_type": "stream",
     "text": [
      "Sum: 10\n"
     ]
    }
   ],
   "source": [
    "lst = [1, 2, 3, 4]\n",
    "total = 0\n",
    "for i in lst:\n",
    "    total += i\n",
    "print(\"Sum:\", total)\n"
   ]
  },
  {
   "cell_type": "markdown",
   "id": "f733bba7-d5b8-4081-aab3-0bee4ee698cf",
   "metadata": {},
   "source": [
    "#### Function without keyword:"
   ]
  },
  {
   "cell_type": "code",
   "execution_count": 79,
   "id": "cc519839-5971-46c7-b645-7e058512edfc",
   "metadata": {},
   "outputs": [
    {
     "name": "stdout",
     "output_type": "stream",
     "text": [
      "Sum: 10\n"
     ]
    }
   ],
   "source": [
    "def sum_list(lst):\n",
    "    total = 0\n",
    "    for i in lst:\n",
    "        total += i\n",
    "    return total\n",
    "\n",
    "print(\"Sum:\", sum_list([1, 2, 3, 4]))\n"
   ]
  },
  {
   "cell_type": "markdown",
   "id": "d1eac4be-8bdf-4032-92b4-aa4f03b0f435",
   "metadata": {},
   "source": [
    "####  Using keyword (sum):"
   ]
  },
  {
   "cell_type": "code",
   "execution_count": 80,
   "id": "e18ef02d-6967-412b-afd8-e9d4cecd8397",
   "metadata": {},
   "outputs": [
    {
     "name": "stdout",
     "output_type": "stream",
     "text": [
      "Sum: 10\n"
     ]
    }
   ],
   "source": [
    "lst = [1, 2, 3, 4]\n",
    "print(\"Sum:\", sum(lst))\n"
   ]
  },
  {
   "cell_type": "markdown",
   "id": "70653e31-a9a1-4508-9bd6-2f7fc06cc734",
   "metadata": {},
   "source": [
    "# 27. Calculate Power Without Using **:"
   ]
  },
  {
   "cell_type": "markdown",
   "id": "9444683d-7852-4c6f-a7a3-2c1e96ae2c22",
   "metadata": {},
   "source": [
    "#### Loop only:"
   ]
  },
  {
   "cell_type": "code",
   "execution_count": 81,
   "id": "15aaf911-e191-4365-9c0e-d67ce01c5e01",
   "metadata": {},
   "outputs": [
    {
     "name": "stdout",
     "output_type": "stream",
     "text": [
      "Power: 8\n"
     ]
    }
   ],
   "source": [
    "base = 2\n",
    "exp = 3\n",
    "result = 1\n",
    "for i in range(exp):\n",
    "    result *= base\n",
    "print(\"Power:\", result)\n"
   ]
  },
  {
   "cell_type": "markdown",
   "id": "4c9e964e-73c0-4c48-bfe6-7b4d84f0c28c",
   "metadata": {},
   "source": [
    "#### Function without keyword:"
   ]
  },
  {
   "cell_type": "code",
   "execution_count": 82,
   "id": "4c9a58b4-d433-455e-87ed-3686fb08f598",
   "metadata": {},
   "outputs": [
    {
     "name": "stdout",
     "output_type": "stream",
     "text": [
      "Power: 8\n"
     ]
    }
   ],
   "source": [
    "def power(base, exp):\n",
    "    result = 1\n",
    "    for i in range(exp):\n",
    "        result *= base\n",
    "    return result\n",
    "\n",
    "print(\"Power:\", power(2, 3))\n"
   ]
  },
  {
   "cell_type": "markdown",
   "id": "bd6a33ab-9c14-4219-a0a8-05e8469839d6",
   "metadata": {},
   "source": [
    "#### Using keyword (pow):"
   ]
  },
  {
   "cell_type": "code",
   "execution_count": 83,
   "id": "aa1e94c5-8527-4bfe-b141-2dc9586db459",
   "metadata": {},
   "outputs": [
    {
     "name": "stdout",
     "output_type": "stream",
     "text": [
      "Power: 8\n"
     ]
    }
   ],
   "source": [
    "print(\"Power:\", pow(2, 3))\n"
   ]
  },
  {
   "cell_type": "markdown",
   "id": "c79e928a-2a58-4ffb-9a33-3ae62d830cfc",
   "metadata": {},
   "source": [
    "# 28. Check if All Characters are Unique:"
   ]
  },
  {
   "cell_type": "markdown",
   "id": "1f06527a-805b-4f89-8a62-79fd056cacbd",
   "metadata": {},
   "source": [
    "#### Loop only:"
   ]
  },
  {
   "cell_type": "code",
   "execution_count": 84,
   "id": "33467216-7577-4b1e-99db-d223cf9a2199",
   "metadata": {},
   "outputs": [
    {
     "name": "stdout",
     "output_type": "stream",
     "text": [
      "Unique: True\n"
     ]
    }
   ],
   "source": [
    "s = \"abcde\"\n",
    "unique = True\n",
    "for i in range(len(s)):\n",
    "    for j in range(i+1, len(s)):\n",
    "        if s[i] == s[j]:\n",
    "            unique = False\n",
    "            break\n",
    "print(\"Unique:\", unique)\n"
   ]
  },
  {
   "cell_type": "markdown",
   "id": "489aa5ac-a70b-4150-a96a-eec4c3203852",
   "metadata": {},
   "source": [
    "#### Function without keyword:"
   ]
  },
  {
   "cell_type": "code",
   "execution_count": 85,
   "id": "5ae7f89d-59b9-4951-9cf0-59ed1341aafa",
   "metadata": {},
   "outputs": [
    {
     "name": "stdout",
     "output_type": "stream",
     "text": [
      "Unique: True\n"
     ]
    }
   ],
   "source": [
    "def all_unique(s):\n",
    "    for i in range(len(s)):\n",
    "        for j in range(i+1, len(s)):\n",
    "            if s[i] == s[j]:\n",
    "                return False\n",
    "    return True\n",
    "\n",
    "print(\"Unique:\", all_unique(\"abcde\"))\n"
   ]
  },
  {
   "cell_type": "markdown",
   "id": "567d7764-aa36-4e16-8279-8028d42eec14",
   "metadata": {},
   "source": [
    "#### Using keyword (set):"
   ]
  },
  {
   "cell_type": "code",
   "execution_count": 86,
   "id": "84757918-ab1e-4e5a-a8b7-01f1cbd3dbc9",
   "metadata": {},
   "outputs": [
    {
     "name": "stdout",
     "output_type": "stream",
     "text": [
      "Unique: True\n"
     ]
    }
   ],
   "source": [
    "s = \"abcde\"\n",
    "print(\"Unique:\", len(set(s)) == len(s))\n"
   ]
  },
  {
   "cell_type": "markdown",
   "id": "3dee74f4-9f7a-478a-85dc-9c74fc084763",
   "metadata": {},
   "source": [
    "#  29. Find Length of List Without len():"
   ]
  },
  {
   "cell_type": "markdown",
   "id": "0c4bd05e-5e56-4b58-97a6-e948b5dec98d",
   "metadata": {},
   "source": [
    "#### Loop only:"
   ]
  },
  {
   "cell_type": "code",
   "execution_count": 87,
   "id": "e53642c6-8ad8-44e2-8823-74c1c12ba064",
   "metadata": {},
   "outputs": [
    {
     "name": "stdout",
     "output_type": "stream",
     "text": [
      "Length: 4\n"
     ]
    }
   ],
   "source": [
    "lst = [1, 2, 3, 4]\n",
    "count = 0\n",
    "for _ in lst:\n",
    "    count += 1\n",
    "print(\"Length:\", count)\n"
   ]
  },
  {
   "cell_type": "markdown",
   "id": "1a557883-b72f-4ff7-a261-920b4ab83174",
   "metadata": {},
   "source": [
    "#### Function without keyword:"
   ]
  },
  {
   "cell_type": "code",
   "execution_count": 88,
   "id": "288dbe49-d13c-4f8b-a797-bc39e0491a04",
   "metadata": {},
   "outputs": [
    {
     "name": "stdout",
     "output_type": "stream",
     "text": [
      "Length: 4\n"
     ]
    }
   ],
   "source": [
    "def list_length(lst):\n",
    "    count = 0\n",
    "    for _ in lst:\n",
    "        count += 1\n",
    "    return count\n",
    "\n",
    "print(\"Length:\", list_length([1, 2, 3, 4]))\n"
   ]
  },
  {
   "cell_type": "markdown",
   "id": "a4735526-2f16-45cc-b95d-b3a9fb6e247f",
   "metadata": {},
   "source": [
    "####  Using keyword (len):"
   ]
  },
  {
   "cell_type": "code",
   "execution_count": 89,
   "id": "29ea89f1-2a5c-4f21-8301-eb85857d55ad",
   "metadata": {},
   "outputs": [
    {
     "name": "stdout",
     "output_type": "stream",
     "text": [
      "Length: 4\n"
     ]
    }
   ],
   "source": [
    "lst = [1, 2, 3, 4]\n",
    "print(\"Length:\", len(lst))\n"
   ]
  },
  {
   "cell_type": "markdown",
   "id": "70c1613d-9bd5-47f6-9cfb-5f8e68051e35",
   "metadata": {},
   "source": [
    "# 30. Check if List is Palindrome"
   ]
  },
  {
   "cell_type": "markdown",
   "id": "8402acf4-0f27-410e-9f91-f785b782dfce",
   "metadata": {},
   "source": [
    "#### Loop only:"
   ]
  },
  {
   "cell_type": "code",
   "execution_count": 90,
   "id": "c131898a-ed4a-4cd2-ba4e-6f3de56b9fc0",
   "metadata": {},
   "outputs": [
    {
     "name": "stdout",
     "output_type": "stream",
     "text": [
      "Palindrome: True\n"
     ]
    }
   ],
   "source": [
    "lst = [1, 2, 3, 2, 1]\n",
    "is_palindrome = True\n",
    "for i in range(len(lst)//2):\n",
    "    if lst[i] != lst[-i-1]:\n",
    "        is_palindrome = False\n",
    "        break\n",
    "print(\"Palindrome:\", is_palindrome)\n"
   ]
  },
  {
   "cell_type": "markdown",
   "id": "73a390ae-1aeb-4ab6-8df5-4d9e5bf22759",
   "metadata": {},
   "source": [
    "#### Function without keyword:"
   ]
  },
  {
   "cell_type": "code",
   "execution_count": 91,
   "id": "b6cfeb2a-cf15-4198-8c59-b7287f284485",
   "metadata": {},
   "outputs": [
    {
     "name": "stdout",
     "output_type": "stream",
     "text": [
      "Palindrome: True\n"
     ]
    }
   ],
   "source": [
    "def list_palindrome(lst):\n",
    "    for i in range(len(lst)//2):\n",
    "        if lst[i] != lst[-i-1]:\n",
    "            return False\n",
    "    return True\n",
    "\n",
    "print(\"Palindrome:\", list_palindrome([1, 2, 3, 2, 1]))\n"
   ]
  },
  {
   "cell_type": "markdown",
   "id": "d67ffaef-987b-435a-9226-dd23b36cf8ff",
   "metadata": {},
   "source": [
    "####  Using keyword ([::-1]):"
   ]
  },
  {
   "cell_type": "code",
   "execution_count": 93,
   "id": "7d043027-484d-4316-a599-a40c1caf9e20",
   "metadata": {},
   "outputs": [
    {
     "name": "stdout",
     "output_type": "stream",
     "text": [
      "Palindrome: True\n"
     ]
    }
   ],
   "source": [
    "lst = [1, 2, 3, 2, 1]\n",
    "print(\"Palindrome:\", lst == lst[::-1])\n"
   ]
  },
  {
   "cell_type": "markdown",
   "id": "789cec42-acd9-4412-8fbf-c94d17a2db99",
   "metadata": {},
   "source": [
    "# 31. Validate PAN Format (5 uppercase + 4 digits + 1 uppercase):"
   ]
  },
  {
   "cell_type": "markdown",
   "id": "a0411bb5-6ac9-41ba-a994-093d171d9d41",
   "metadata": {},
   "source": [
    "#### Loop only:"
   ]
  },
  {
   "cell_type": "code",
   "execution_count": 94,
   "id": "2be90011-b44b-43da-aa59-7a3ec76a184d",
   "metadata": {},
   "outputs": [
    {
     "name": "stdout",
     "output_type": "stream",
     "text": [
      "Valid PAN: True\n"
     ]
    }
   ],
   "source": [
    "pan = \"ABCDE1234F\"\n",
    "valid = True\n",
    "\n",
    "# Check length\n",
    "if len(pan) != 10:\n",
    "    valid = False\n",
    "else:\n",
    "    for i in range(5):\n",
    "        if not ('A' <= pan[i] <= 'Z'):\n",
    "            valid = False\n",
    "            break\n",
    "    for i in range(5, 9):\n",
    "        if not ('0' <= pan[i] <= '9'):\n",
    "            valid = False\n",
    "            break\n",
    "    if not ('A' <= pan[9] <= 'Z'):\n",
    "        valid = False\n",
    "\n",
    "print(\"Valid PAN:\" , valid)\n"
   ]
  },
  {
   "cell_type": "markdown",
   "id": "98dde38f-4584-45bf-bf18-2c438fdf052f",
   "metadata": {},
   "source": [
    "#### Function without keyword:"
   ]
  },
  {
   "cell_type": "code",
   "execution_count": 95,
   "id": "20bf1d7b-1bd8-4257-8a73-f38d2723f609",
   "metadata": {},
   "outputs": [
    {
     "name": "stdout",
     "output_type": "stream",
     "text": [
      "Valid PAN: True\n"
     ]
    }
   ],
   "source": [
    "def is_valid_pan(pan):\n",
    "    if len(pan) != 10:\n",
    "        return False\n",
    "    for i in range(5):\n",
    "        if not ('A' <= pan[i] <= 'Z'):\n",
    "            return False\n",
    "    for i in range(5, 9):\n",
    "        if not ('0' <= pan[i] <= '9'):\n",
    "            return False\n",
    "    if not ('A' <= pan[9] <= 'Z'):\n",
    "        return False\n",
    "    return True\n",
    "\n",
    "print(\"Valid PAN:\", is_valid_pan(\"ABCDE1234F\"))\n"
   ]
  },
  {
   "cell_type": "markdown",
   "id": "d3b40f35-f14d-4872-b4a1-331815ea06a3",
   "metadata": {},
   "source": [
    "#### Using keyword (re regex):"
   ]
  },
  {
   "cell_type": "code",
   "execution_count": 96,
   "id": "f54932db-882a-443a-8502-a4bb36a9bee0",
   "metadata": {},
   "outputs": [
    {
     "name": "stdout",
     "output_type": "stream",
     "text": [
      "Valid PAN: True\n"
     ]
    }
   ],
   "source": [
    "import re\n",
    "pan = \"ABCDE1234F\"\n",
    "print(\"Valid PAN:\", bool(re.match(r'^[A-Z]{5}[0-9]{4}[A-Z]$', pan)))\n"
   ]
  },
  {
   "cell_type": "markdown",
   "id": "b9ff03df-123a-4a2c-bcbd-fbdcffa29fb2",
   "metadata": {},
   "source": [
    "# 32. Flatten Nested List"
   ]
  },
  {
   "cell_type": "markdown",
   "id": "4b2699f4-581a-4977-ab02-81ee3a947f20",
   "metadata": {},
   "source": [
    "#### Loop only:"
   ]
  },
  {
   "cell_type": "code",
   "execution_count": 97,
   "id": "3f8fb7f1-d5d0-4396-95f6-d4f58120872e",
   "metadata": {},
   "outputs": [
    {
     "name": "stdout",
     "output_type": "stream",
     "text": [
      "Flattened: [1, 2, 3, 4, 5]\n"
     ]
    }
   ],
   "source": [
    "lst = [[1, 2], [3, 4], [5]]\n",
    "flat = []\n",
    "for sublist in lst:\n",
    "    for item in sublist:\n",
    "        flat.append(item)\n",
    "print(\"Flattened:\", flat)\n"
   ]
  },
  {
   "cell_type": "markdown",
   "id": "fbf71aab-90d5-47c6-9943-341e63e0504d",
   "metadata": {},
   "source": [
    "#### Function without keyword:"
   ]
  },
  {
   "cell_type": "code",
   "execution_count": 98,
   "id": "d28385ae-6196-4e30-a973-b0ff9b678545",
   "metadata": {},
   "outputs": [
    {
     "name": "stdout",
     "output_type": "stream",
     "text": [
      "Flattened: [1, 2, 3, 4, 5]\n"
     ]
    }
   ],
   "source": [
    "def flatten_list(lst):\n",
    "    flat = []\n",
    "    for sublist in lst:\n",
    "        for item in sublist:\n",
    "            flat.append(item)\n",
    "    return flat\n",
    "\n",
    "print(\"Flattened:\", flatten_list([[1, 2], [3, 4], [5]]))\n"
   ]
  },
  {
   "cell_type": "markdown",
   "id": "89e773ab-db80-42b7-b2e2-4270393c46c4",
   "metadata": {},
   "source": [
    "####  Using keyword (sum for lists):"
   ]
  },
  {
   "cell_type": "code",
   "execution_count": 99,
   "id": "df7c4d40-ab69-4d93-8864-636ae4cdb748",
   "metadata": {},
   "outputs": [
    {
     "name": "stdout",
     "output_type": "stream",
     "text": [
      "Flattened: [1, 2, 3, 4, 5]\n"
     ]
    }
   ],
   "source": [
    "lst = [[1, 2], [3, 4], [5]]\n",
    "print(\"Flattened:\", sum(lst, []))\n"
   ]
  },
  {
   "cell_type": "markdown",
   "id": "4871f641-87ed-49ec-8039-0b001b4d1459",
   "metadata": {},
   "source": [
    "# 33. Find All Palindromes in List"
   ]
  },
  {
   "cell_type": "markdown",
   "id": "c214bb1e-7089-4253-8b62-7b6a562cd3b2",
   "metadata": {},
   "source": [
    "#### Loop only:"
   ]
  },
  {
   "cell_type": "code",
   "execution_count": 100,
   "id": "7c7e24d4-3180-4a5b-b3ec-88f200151340",
   "metadata": {},
   "outputs": [
    {
     "name": "stdout",
     "output_type": "stream",
     "text": [
      "Palindromes: [121, 88]\n"
     ]
    }
   ],
   "source": [
    "lst = [121, 133, 123, 88, 97]\n",
    "palindromes = []\n",
    "for num in lst:\n",
    "    n = num\n",
    "    rev = 0\n",
    "    while n > 0:\n",
    "        rev = rev * 10 + n % 10\n",
    "        n //= 10\n",
    "    if rev == num:\n",
    "        palindromes.append(num)\n",
    "print(\"Palindromes:\", palindromes)\n"
   ]
  },
  {
   "cell_type": "markdown",
   "id": "703d7878-f5bf-4ee3-a076-9d3a39075523",
   "metadata": {},
   "source": [
    "#### Function without keyword:"
   ]
  },
  {
   "cell_type": "code",
   "execution_count": 101,
   "id": "6291165c-25f4-4f6c-94f7-75d2c515d555",
   "metadata": {},
   "outputs": [
    {
     "name": "stdout",
     "output_type": "stream",
     "text": [
      "Palindromes: [121, 88]\n"
     ]
    }
   ],
   "source": [
    "def find_palindromes(lst):\n",
    "    palindromes = []\n",
    "    for num in lst:\n",
    "        n = num\n",
    "        rev = 0\n",
    "        while n > 0:\n",
    "            rev = rev * 10 + n % 10\n",
    "            n //= 10\n",
    "        if rev == num:\n",
    "            palindromes.append(num)\n",
    "    return palindromes\n",
    "\n",
    "print(\"Palindromes:\", find_palindromes([121, 133, 123, 88, 97]))\n"
   ]
  },
  {
   "cell_type": "markdown",
   "id": "769bfe3b-623e-4fd3-8f42-17b72efee10a",
   "metadata": {},
   "source": [
    "####  Using keyword (str):"
   ]
  },
  {
   "cell_type": "code",
   "execution_count": 102,
   "id": "93dad317-8111-4c09-8e41-2858aeedf029",
   "metadata": {},
   "outputs": [
    {
     "name": "stdout",
     "output_type": "stream",
     "text": [
      "Palindromes: [121, 88]\n"
     ]
    }
   ],
   "source": [
    "lst = [121, 133, 123, 88, 97]\n",
    "print(\"Palindromes:\", [x for x in lst if str(x) == str(x)[::-1]])\n"
   ]
  },
  {
   "cell_type": "markdown",
   "id": "62e2ed6b-d032-4c02-b0a3-58d4dfdad42f",
   "metadata": {},
   "source": [
    "# 34. Find Longest Word in Sentence:"
   ]
  },
  {
   "cell_type": "markdown",
   "id": "f0b54aac-1c62-4105-be41-cbf48c921896",
   "metadata": {},
   "source": [
    "#### Loop only:"
   ]
  },
  {
   "cell_type": "code",
   "execution_count": 103,
   "id": "5e64ca8c-1c39-4b19-9608-618dfe2695e3",
   "metadata": {},
   "outputs": [
    {
     "name": "stdout",
     "output_type": "stream",
     "text": [
      "Longest: fantastic\n"
     ]
    }
   ],
   "source": [
    "sentence = \"Python is fantastic and powerful\"\n",
    "words = sentence.split()\n",
    "longest = words[0]\n",
    "for word in words:\n",
    "    count = 0\n",
    "    for _ in word:\n",
    "        count += 1\n",
    "    l_count = 0\n",
    "    for _ in longest:\n",
    "        l_count += 1\n",
    "    if count > l_count:\n",
    "        longest = word\n",
    "print(\"Longest:\", longest)\n"
   ]
  },
  {
   "cell_type": "markdown",
   "id": "8631e288-0217-4fc8-88af-10a643e0cdbd",
   "metadata": {},
   "source": [
    "#### Function without keyword:"
   ]
  },
  {
   "cell_type": "code",
   "execution_count": 104,
   "id": "9aee7e61-7ee2-4b2d-8dd8-1b0019bc20dc",
   "metadata": {},
   "outputs": [
    {
     "name": "stdout",
     "output_type": "stream",
     "text": [
      "Longest: fantastic\n"
     ]
    }
   ],
   "source": [
    "def longest_word(sentence):\n",
    "    words = sentence.split()\n",
    "    longest = words[0]\n",
    "    for word in words:\n",
    "        if len(word) > len(longest):\n",
    "            longest = word\n",
    "    return longest\n",
    "\n",
    "print(\"Longest:\", longest_word(\"Python is fantastic and powerful\"))\n"
   ]
  },
  {
   "cell_type": "markdown",
   "id": "12ca52aa-1df4-40a4-8181-ba2ff23b3706",
   "metadata": {},
   "source": [
    "#### Using keyword (max with key):"
   ]
  },
  {
   "cell_type": "code",
   "execution_count": 105,
   "id": "d8e8d987-d2fb-4e7a-bd21-d4bf30a7db9b",
   "metadata": {},
   "outputs": [
    {
     "name": "stdout",
     "output_type": "stream",
     "text": [
      "Longest: fantastic\n"
     ]
    }
   ],
   "source": [
    "sentence = \"Python is fantastic and powerful\"\n",
    "print(\"Longest:\", max(sentence.split(), key=len))\n"
   ]
  },
  {
   "cell_type": "markdown",
   "id": "9def6267-536b-4a14-9b03-8d00b799544b",
   "metadata": {},
   "source": [
    "# 35. Password Masker:"
   ]
  },
  {
   "cell_type": "markdown",
   "id": "76162820-79d7-4341-9979-6c1cd6b8db6e",
   "metadata": {},
   "source": [
    "#### Loop only:"
   ]
  },
  {
   "cell_type": "code",
   "execution_count": 106,
   "id": "2a36d560-7a3a-40d9-a15e-775b377760a7",
   "metadata": {},
   "outputs": [
    {
     "name": "stdout",
     "output_type": "stream",
     "text": [
      "Masked: ********\n"
     ]
    }
   ],
   "source": [
    "password = \"mysecret\"\n",
    "masked = \"\"\n",
    "for _ in password:\n",
    "    masked += \"*\"\n",
    "print(\"Masked:\", masked)\n"
   ]
  },
  {
   "cell_type": "markdown",
   "id": "e799366a-a7fe-40f2-9fde-0a44c360b24d",
   "metadata": {},
   "source": [
    "#### Function without keyword:"
   ]
  },
  {
   "cell_type": "code",
   "execution_count": 107,
   "id": "cbce2ec6-f017-4de2-93bb-37aabe39eee0",
   "metadata": {},
   "outputs": [
    {
     "name": "stdout",
     "output_type": "stream",
     "text": [
      "Masked: ********\n"
     ]
    }
   ],
   "source": [
    "def mask_password(password):\n",
    "    masked = \"\"\n",
    "    for _ in password:\n",
    "        masked += \"*\"\n",
    "    return masked\n",
    "\n",
    "print(\"Masked:\", mask_password(\"mysecret\"))\n"
   ]
  },
  {
   "cell_type": "markdown",
   "id": "f5f8e4e4-15e6-4f3f-b541-da5a838a1ff4",
   "metadata": {},
   "source": [
    "#### Using keyword (len):"
   ]
  },
  {
   "cell_type": "code",
   "execution_count": 108,
   "id": "66b45abf-f734-455b-b20b-b8d4501b91f9",
   "metadata": {},
   "outputs": [
    {
     "name": "stdout",
     "output_type": "stream",
     "text": [
      "Masked: ********\n"
     ]
    }
   ],
   "source": [
    "password = \"mysecret\"\n",
    "print(\"Masked:\", \"*\" * len(password))\n"
   ]
  },
  {
   "cell_type": "markdown",
   "id": "f44ccbf3-b4a5-4a98-98b8-cdf537d8a0f8",
   "metadata": {},
   "source": [
    "# 36. Simple Contact Book (Search):"
   ]
  },
  {
   "cell_type": "markdown",
   "id": "79cc8641-2c84-436c-b828-d77307f77f18",
   "metadata": {},
   "source": [
    "#### Loop only:"
   ]
  },
  {
   "cell_type": "code",
   "execution_count": 109,
   "id": "f3d824f9-9ba5-49a1-bd34-150897cbfed1",
   "metadata": {},
   "outputs": [
    {
     "name": "stdout",
     "output_type": "stream",
     "text": [
      "Contact: 9911223344\n"
     ]
    }
   ],
   "source": [
    "contacts = {\"Ravi\": \"9876543210\", \"Anu\": \"9911223344\"}\n",
    "name = \"Anu\"\n",
    "number = None\n",
    "for key in contacts:\n",
    "    if key == name:\n",
    "        number = contacts[key]\n",
    "        break\n",
    "print(\"Contact:\", number)\n"
   ]
  },
  {
   "cell_type": "markdown",
   "id": "b3126c48-d1d5-4b56-939b-072ee8bece41",
   "metadata": {},
   "source": [
    "#### Function without keyword:"
   ]
  },
  {
   "cell_type": "code",
   "execution_count": 110,
   "id": "9ba34845-90e4-4220-a78e-0136665d1b5f",
   "metadata": {},
   "outputs": [
    {
     "name": "stdout",
     "output_type": "stream",
     "text": [
      "Contact: 9911223344\n"
     ]
    }
   ],
   "source": [
    "def find_contact(contacts, name):\n",
    "    for key in contacts:\n",
    "        if key == name:\n",
    "            return contacts[key]\n",
    "    return None\n",
    "\n",
    "print(\"Contact:\", find_contact({\"Ravi\": \"9876543210\", \"Anu\": \"9911223344\"}, \"Anu\"))\n"
   ]
  },
  {
   "cell_type": "markdown",
   "id": "c50b3d3f-713f-45ff-9746-9d2c7297d1c8",
   "metadata": {},
   "source": [
    "####  Using keyword (get):"
   ]
  },
  {
   "cell_type": "code",
   "execution_count": 111,
   "id": "57f3cd28-493a-403f-a485-1da5da110fdf",
   "metadata": {},
   "outputs": [
    {
     "name": "stdout",
     "output_type": "stream",
     "text": [
      "Contact: 9911223344\n"
     ]
    }
   ],
   "source": [
    "contacts = {\"Ravi\": \"9876543210\", \"Anu\": \"9911223344\"}\n",
    "print(\"Contact:\", contacts.get(\"Anu\"))\n"
   ]
  },
  {
   "cell_type": "markdown",
   "id": "f24afa5d-5930-44d0-a4c4-457c4bf4495f",
   "metadata": {},
   "source": [
    "#  37. Marks to Grade Conversion:"
   ]
  },
  {
   "cell_type": "markdown",
   "id": "381628f5-ac7f-494b-925a-9cc190a09233",
   "metadata": {},
   "source": [
    "#### Loop only:"
   ]
  },
  {
   "cell_type": "code",
   "execution_count": 112,
   "id": "5cc2f2fb-d581-4758-9deb-d13617371d88",
   "metadata": {},
   "outputs": [
    {
     "name": "stdout",
     "output_type": "stream",
     "text": [
      "Grades: ['A', 'E', 'B', 'A', 'C']\n"
     ]
    }
   ],
   "source": [
    "marks = [85, 40, 77, 92, 60]\n",
    "grades = []\n",
    "for m in marks:\n",
    "    if m >= 80:\n",
    "        grades.append('A')\n",
    "    elif m >= 70:\n",
    "        grades.append('B')\n",
    "    elif m >= 60:\n",
    "        grades.append('C')\n",
    "    elif m >= 50:\n",
    "        grades.append('D')\n",
    "    elif m >= 40:\n",
    "        grades.append('E')\n",
    "    else:\n",
    "        grades.append('F')\n",
    "print(\"Grades:\", grades)\n"
   ]
  },
  {
   "cell_type": "markdown",
   "id": "ada340de-e2c6-4422-85c4-6fdf5a33918a",
   "metadata": {},
   "source": [
    "#### Function without keyword:"
   ]
  },
  {
   "cell_type": "code",
   "execution_count": 114,
   "id": "00210bce-2d89-4590-b64c-7d9cfe7a04c3",
   "metadata": {},
   "outputs": [
    {
     "name": "stdout",
     "output_type": "stream",
     "text": [
      "Grades: ['A', 'E', 'B', 'A', 'C']\n"
     ]
    }
   ],
   "source": [
    "def marks_to_grades(marks):\n",
    "    grades = []\n",
    "    for m in marks:\n",
    "        if m >= 80:\n",
    "            grades.append('A')\n",
    "        elif m >= 70:\n",
    "            grades.append('B')\n",
    "        elif m >= 60:\n",
    "            grades.append('C')\n",
    "        elif m >= 50:\n",
    "            grades.append('D')\n",
    "        elif m >= 40:\n",
    "            grades.append('E')\n",
    "        else:\n",
    "            grades.append('F')\n",
    "    return grades\n",
    "\n",
    "print(\"Grades:\", marks_to_grades([85, 40, 77, 92, 60]))\n"
   ]
  },
  {
   "cell_type": "markdown",
   "id": "2d383fb5-a5ed-4e38-802a-58a0e9994eab",
   "metadata": {},
   "source": [
    "####  Using keyword (map + lambda):"
   ]
  },
  {
   "cell_type": "code",
   "execution_count": 115,
   "id": "081535d8-4961-46fd-a27f-e003cf3328e1",
   "metadata": {},
   "outputs": [
    {
     "name": "stdout",
     "output_type": "stream",
     "text": [
      "Grades: ['A', 'E', 'B', 'A', 'C']\n"
     ]
    }
   ],
   "source": [
    "marks = [85, 40, 77, 92, 60]\n",
    "grades = list(map(lambda m: 'A' if m >= 80 else 'B' if m >= 70 else 'C' if m >= 60 else 'D' if m >= 50 else 'E' if m >= 40 else 'F', marks))\n",
    "print(\"Grades:\", grades)\n"
   ]
  },
  {
   "cell_type": "markdown",
   "id": "4cd90501-cf2f-43d5-a74a-532da3842f3a",
   "metadata": {},
   "source": [
    "# 38.Print following pattern in Python:                                                                                 * \n"
   ]
  },
  {
   "cell_type": "markdown",
   "id": "13e0cd4a-7583-4d8a-b566-9298acad4fdf",
   "metadata": {},
   "source": [
    "#### *\n",
    "#### ** \n",
    "#### ***\n",
    "#### ****\n",
    "#### *****"
   ]
  },
  {
   "cell_type": "markdown",
   "id": "afcdce99-1eea-4b2b-a093-b23e692aa1cd",
   "metadata": {},
   "source": [
    "#### Loop only:"
   ]
  },
  {
   "cell_type": "code",
   "execution_count": 6,
   "id": "7da425f0-00d5-43fa-8ce1-7f40c9adb3a7",
   "metadata": {},
   "outputs": [
    {
     "name": "stdout",
     "output_type": "stream",
     "text": [
      "*\n",
      "**\n",
      "***\n",
      "****\n",
      "*****\n"
     ]
    }
   ],
   "source": [
    "rows = 5\n",
    "for i in range(1, rows + 1):\n",
    "    line = \"\"\n",
    "    for j in range(i):\n",
    "        line += \"*\"\n",
    "    print(line)\n"
   ]
  },
  {
   "cell_type": "markdown",
   "id": "a0a42cfe-aab7-4f43-9fd2-91376bb44549",
   "metadata": {},
   "source": [
    "#### Function without keyword:"
   ]
  },
  {
   "cell_type": "code",
   "execution_count": 7,
   "id": "ab166a92-b2c1-460f-91c5-602eb0a0e680",
   "metadata": {},
   "outputs": [
    {
     "name": "stdout",
     "output_type": "stream",
     "text": [
      "*\n",
      "**\n",
      "***\n",
      "****\n",
      "*****\n"
     ]
    }
   ],
   "source": [
    "def print_pattern(rows):\n",
    "    for i in range(1, rows + 1):\n",
    "        line = \"\"\n",
    "        for j in range(i):\n",
    "            line += \"*\"\n",
    "        print(line)\n",
    "\n",
    "print_pattern(5)\n"
   ]
  },
  {
   "cell_type": "markdown",
   "id": "edcc413e-bc1e-429b-9668-cd42983716c6",
   "metadata": {},
   "source": [
    "####  Using keyword:"
   ]
  },
  {
   "cell_type": "code",
   "execution_count": 8,
   "id": "1b142894-18bc-4b1d-9d35-85be4e4e8198",
   "metadata": {},
   "outputs": [
    {
     "name": "stdout",
     "output_type": "stream",
     "text": [
      "*\n",
      "**\n",
      "***\n",
      "****\n",
      "*****\n"
     ]
    }
   ],
   "source": [
    "rows = 5\n",
    "for i in range(1, rows + 1):\n",
    "    print(\"*\" * i)\n"
   ]
  },
  {
   "cell_type": "code",
   "execution_count": null,
   "id": "a658e12c-d15b-406f-b3e6-4abd46c8a2cc",
   "metadata": {},
   "outputs": [],
   "source": []
  }
 ],
 "metadata": {
  "kernelspec": {
   "display_name": "Python 3 (ipykernel)",
   "language": "python",
   "name": "python3"
  },
  "language_info": {
   "codemirror_mode": {
    "name": "ipython",
    "version": 3
   },
   "file_extension": ".py",
   "mimetype": "text/x-python",
   "name": "python",
   "nbconvert_exporter": "python",
   "pygments_lexer": "ipython3",
   "version": "3.12.7"
  }
 },
 "nbformat": 4,
 "nbformat_minor": 5
}
